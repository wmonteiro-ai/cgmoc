{
 "cells": [
  {
   "cell_type": "code",
   "execution_count": 1,
   "id": "dc5831f0-f6a7-4b69-bc52-31ea4709fcff",
   "metadata": {},
   "outputs": [],
   "source": [
    "#Dice\n",
    "#COMPAS for bail decision\n",
    "#Adult-Income for income prediction\n",
    "#German-Credit for assessing credit risk\n",
    "#Dataset from Lending Club for loan decisions: https://www.lendingclub.com/info/download-data.action\n",
    "\n",
    "#Alibi\n",
    "\n",
    "#AIX360"
   ]
  },
  {
   "cell_type": "markdown",
   "id": "dbcf5804-2e73-473c-bb8f-c2aa56abef00",
   "metadata": {},
   "source": [
    "## Importing libraries"
   ]
  },
  {
   "cell_type": "code",
   "execution_count": 2,
   "id": "8b59403b-3434-4326-a340-e588c508f950",
   "metadata": {},
   "outputs": [],
   "source": [
    "import time\n",
    "import pickle\n",
    "import dice_ml\n",
    "import numpy as np\n",
    "import pandas as pd\n",
    "import seaborn as sns\n",
    "import plotly.express as px\n",
    "import matplotlib.pyplot as plt\n",
    "import tensorflow.compat.v1 as tf\n",
    "\n",
    "from sklearn.impute import *\n",
    "from sklearn.ensemble import *\n",
    "from sklearn.pipeline import Pipeline\n",
    "from sklearn.compose import ColumnTransformer\n",
    "from sklearn.model_selection import train_test_split\n",
    "from sklearn.metrics import confusion_matrix, roc_auc_score\n",
    "from sklearn.compose import make_column_selector as selector\n",
    "from sklearn.preprocessing import OneHotEncoder, MaxAbsScaler, LabelEncoder\n",
    "\n",
    "from imblearn.over_sampling import SMOTENC\n",
    "\n",
    "from xmoai.problems.objectives import *\n",
    "from xmoai.problems.restrictions import *\n",
    "from xmoai.setup.configure import generate_counterfactuals_classification_proba\n",
    "\n",
    "from alibi.explainers import *\n",
    "\n",
    "pd.set_option('display.max_columns', None)"
   ]
  },
  {
   "cell_type": "code",
   "execution_count": 3,
   "id": "37ca0fae-1477-46f6-b830-4867eb761a1c",
   "metadata": {},
   "outputs": [
    {
     "name": "stdout",
     "output_type": "stream",
     "text": [
      "WARNING:tensorflow:From C:\\Users\\wmont\\AppData\\Local\\Temp/ipykernel_8584/2406458911.py:3: The name tf.keras.backend.get_session is deprecated. Please use tf.compat.v1.keras.backend.get_session instead.\n",
      "\n"
     ]
    },
    {
     "data": {
      "text/plain": [
       "[_DeviceAttributes(/job:localhost/replica:0/task:0/device:CPU:0, CPU, 268435456, -295673857365571358),\n",
       " _DeviceAttributes(/job:localhost/replica:0/task:0/device:GPU:0, GPU, 9396617216, -3887354611583707994)]"
      ]
     },
     "execution_count": 3,
     "metadata": {},
     "output_type": "execute_result"
    }
   ],
   "source": [
    "tf.compat.v1.disable_eager_execution()\n",
    "tf.keras.backend.clear_session()\n",
    "tf.compat.v1.keras.backend.get_session().list_devices()"
   ]
  },
  {
   "cell_type": "markdown",
   "id": "7a193cac-8546-4aa8-9fe2-28726ac0828b",
   "metadata": {},
   "source": [
    "# German Credit Dataset"
   ]
  },
  {
   "cell_type": "code",
   "execution_count": 22,
   "id": "f3d28b1a-dd3f-4d72-b97d-9a9ab72b7d28",
   "metadata": {},
   "outputs": [
    {
     "data": {
      "text/html": [
       "<div>\n",
       "<style scoped>\n",
       "    .dataframe tbody tr th:only-of-type {\n",
       "        vertical-align: middle;\n",
       "    }\n",
       "\n",
       "    .dataframe tbody tr th {\n",
       "        vertical-align: top;\n",
       "    }\n",
       "\n",
       "    .dataframe thead th {\n",
       "        text-align: right;\n",
       "    }\n",
       "</style>\n",
       "<table border=\"1\" class=\"dataframe\">\n",
       "  <thead>\n",
       "    <tr style=\"text-align: right;\">\n",
       "      <th></th>\n",
       "      <th>Age</th>\n",
       "      <th>Sex</th>\n",
       "      <th>Job</th>\n",
       "      <th>Housing</th>\n",
       "      <th>Saving accounts</th>\n",
       "      <th>Checking account</th>\n",
       "      <th>Credit amount</th>\n",
       "      <th>Duration</th>\n",
       "      <th>Purpose</th>\n",
       "      <th>Risk</th>\n",
       "    </tr>\n",
       "  </thead>\n",
       "  <tbody>\n",
       "    <tr>\n",
       "      <th>1</th>\n",
       "      <td>22</td>\n",
       "      <td>female</td>\n",
       "      <td>2</td>\n",
       "      <td>own</td>\n",
       "      <td>little</td>\n",
       "      <td>moderate</td>\n",
       "      <td>5951</td>\n",
       "      <td>48</td>\n",
       "      <td>radio/TV</td>\n",
       "      <td>bad</td>\n",
       "    </tr>\n",
       "    <tr>\n",
       "      <th>3</th>\n",
       "      <td>45</td>\n",
       "      <td>male</td>\n",
       "      <td>2</td>\n",
       "      <td>free</td>\n",
       "      <td>little</td>\n",
       "      <td>little</td>\n",
       "      <td>7882</td>\n",
       "      <td>42</td>\n",
       "      <td>furniture/equipment</td>\n",
       "      <td>good</td>\n",
       "    </tr>\n",
       "    <tr>\n",
       "      <th>4</th>\n",
       "      <td>53</td>\n",
       "      <td>male</td>\n",
       "      <td>2</td>\n",
       "      <td>free</td>\n",
       "      <td>little</td>\n",
       "      <td>little</td>\n",
       "      <td>4870</td>\n",
       "      <td>24</td>\n",
       "      <td>car</td>\n",
       "      <td>bad</td>\n",
       "    </tr>\n",
       "    <tr>\n",
       "      <th>7</th>\n",
       "      <td>35</td>\n",
       "      <td>male</td>\n",
       "      <td>3</td>\n",
       "      <td>rent</td>\n",
       "      <td>little</td>\n",
       "      <td>moderate</td>\n",
       "      <td>6948</td>\n",
       "      <td>36</td>\n",
       "      <td>car</td>\n",
       "      <td>good</td>\n",
       "    </tr>\n",
       "    <tr>\n",
       "      <th>9</th>\n",
       "      <td>28</td>\n",
       "      <td>male</td>\n",
       "      <td>3</td>\n",
       "      <td>own</td>\n",
       "      <td>little</td>\n",
       "      <td>moderate</td>\n",
       "      <td>5234</td>\n",
       "      <td>30</td>\n",
       "      <td>car</td>\n",
       "      <td>bad</td>\n",
       "    </tr>\n",
       "    <tr>\n",
       "      <th>...</th>\n",
       "      <td>...</td>\n",
       "      <td>...</td>\n",
       "      <td>...</td>\n",
       "      <td>...</td>\n",
       "      <td>...</td>\n",
       "      <td>...</td>\n",
       "      <td>...</td>\n",
       "      <td>...</td>\n",
       "      <td>...</td>\n",
       "      <td>...</td>\n",
       "    </tr>\n",
       "    <tr>\n",
       "      <th>989</th>\n",
       "      <td>48</td>\n",
       "      <td>male</td>\n",
       "      <td>1</td>\n",
       "      <td>own</td>\n",
       "      <td>little</td>\n",
       "      <td>moderate</td>\n",
       "      <td>1743</td>\n",
       "      <td>24</td>\n",
       "      <td>radio/TV</td>\n",
       "      <td>good</td>\n",
       "    </tr>\n",
       "    <tr>\n",
       "      <th>993</th>\n",
       "      <td>30</td>\n",
       "      <td>male</td>\n",
       "      <td>3</td>\n",
       "      <td>own</td>\n",
       "      <td>little</td>\n",
       "      <td>little</td>\n",
       "      <td>3959</td>\n",
       "      <td>36</td>\n",
       "      <td>furniture/equipment</td>\n",
       "      <td>good</td>\n",
       "    </tr>\n",
       "    <tr>\n",
       "      <th>996</th>\n",
       "      <td>40</td>\n",
       "      <td>male</td>\n",
       "      <td>3</td>\n",
       "      <td>own</td>\n",
       "      <td>little</td>\n",
       "      <td>little</td>\n",
       "      <td>3857</td>\n",
       "      <td>30</td>\n",
       "      <td>car</td>\n",
       "      <td>good</td>\n",
       "    </tr>\n",
       "    <tr>\n",
       "      <th>998</th>\n",
       "      <td>23</td>\n",
       "      <td>male</td>\n",
       "      <td>2</td>\n",
       "      <td>free</td>\n",
       "      <td>little</td>\n",
       "      <td>little</td>\n",
       "      <td>1845</td>\n",
       "      <td>45</td>\n",
       "      <td>radio/TV</td>\n",
       "      <td>bad</td>\n",
       "    </tr>\n",
       "    <tr>\n",
       "      <th>999</th>\n",
       "      <td>27</td>\n",
       "      <td>male</td>\n",
       "      <td>2</td>\n",
       "      <td>own</td>\n",
       "      <td>moderate</td>\n",
       "      <td>moderate</td>\n",
       "      <td>4576</td>\n",
       "      <td>45</td>\n",
       "      <td>car</td>\n",
       "      <td>good</td>\n",
       "    </tr>\n",
       "  </tbody>\n",
       "</table>\n",
       "<p>522 rows × 10 columns</p>\n",
       "</div>"
      ],
      "text/plain": [
       "     Age     Sex  Job Housing Saving accounts Checking account  Credit amount  \\\n",
       "1     22  female    2     own          little         moderate           5951   \n",
       "3     45    male    2    free          little           little           7882   \n",
       "4     53    male    2    free          little           little           4870   \n",
       "7     35    male    3    rent          little         moderate           6948   \n",
       "9     28    male    3     own          little         moderate           5234   \n",
       "..   ...     ...  ...     ...             ...              ...            ...   \n",
       "989   48    male    1     own          little         moderate           1743   \n",
       "993   30    male    3     own          little           little           3959   \n",
       "996   40    male    3     own          little           little           3857   \n",
       "998   23    male    2    free          little           little           1845   \n",
       "999   27    male    2     own        moderate         moderate           4576   \n",
       "\n",
       "     Duration              Purpose  Risk  \n",
       "1          48             radio/TV   bad  \n",
       "3          42  furniture/equipment  good  \n",
       "4          24                  car   bad  \n",
       "7          36                  car  good  \n",
       "9          30                  car   bad  \n",
       "..        ...                  ...   ...  \n",
       "989        24             radio/TV  good  \n",
       "993        36  furniture/equipment  good  \n",
       "996        30                  car  good  \n",
       "998        45             radio/TV   bad  \n",
       "999        45                  car  good  \n",
       "\n",
       "[522 rows x 10 columns]"
      ]
     },
     "execution_count": 22,
     "metadata": {},
     "output_type": "execute_result"
    }
   ],
   "source": [
    "df_german = pd.read_csv('../FairMood/datasets/german_credit_data.csv').dropna()\n",
    "df_german"
   ]
  },
  {
   "cell_type": "markdown",
   "id": "7a9e97bf-6faa-4c4c-b136-769bf95a66d0",
   "metadata": {},
   "source": [
    "## Defining required columns"
   ]
  },
  {
   "cell_type": "code",
   "execution_count": 5,
   "id": "59514989-9f92-4f62-a1bc-2e4f297d4921",
   "metadata": {},
   "outputs": [],
   "source": [
    "num_indexes = []\n",
    "cat_indexes = []\n",
    "\n",
    "num_columns = ['Age', 'Credit amount', 'Duration']\n",
    "cat_columns = ['Sex', 'Job', 'Housing', 'Saving accounts', 'Checking account', 'Purpose']\n",
    "integer_columns = num_columns\n",
    "target = 'Risk'\n",
    "\n",
    "for i in range(df_german.shape[1]):\n",
    "    col = df_german.columns[i]\n",
    "    if col in num_columns:\n",
    "        num_indexes.append(i)\n",
    "    elif col in cat_columns:\n",
    "        cat_indexes.append(i)"
   ]
  },
  {
   "cell_type": "markdown",
   "id": "629da856-3be3-4c92-94b3-30694151925a",
   "metadata": {},
   "source": [
    "### Converting string-encoded categories to integers"
   ]
  },
  {
   "cell_type": "code",
   "execution_count": 6,
   "id": "67c3399b-c964-4e23-bf08-8b21c85a9cf5",
   "metadata": {},
   "outputs": [],
   "source": [
    "label_encoders = {}\n",
    "\n",
    "for col in cat_columns:\n",
    "    encoder = LabelEncoder().fit(df_german[col])\n",
    "    label_encoders[col] = encoder\n",
    "    df_german[col] = encoder.transform(df_german[col])"
   ]
  },
  {
   "cell_type": "markdown",
   "id": "1072d84a-1c9b-4b17-a7ac-6dd1cb4f221d",
   "metadata": {},
   "source": [
    "## Training"
   ]
  },
  {
   "cell_type": "code",
   "execution_count": 7,
   "id": "3c180841-cc67-4ffa-a290-230da3700592",
   "metadata": {},
   "outputs": [],
   "source": [
    "X_train, X_test, y_train, y_test = train_test_split(df_german.drop(target, axis=1), df_german[target], test_size=0.7, random_state=0)\n",
    "X_train, y_train = SMOTENC(categorical_features=np.isin(df_german.columns, cat_columns)).fit_resample(X_train, y_train)"
   ]
  },
  {
   "cell_type": "code",
   "execution_count": 8,
   "id": "b31b0b11-957b-41b9-98c3-f1279dcfb683",
   "metadata": {},
   "outputs": [],
   "source": [
    "one_hot_encode = False\n",
    "\n",
    "# defining both numeric and categorical transformers\n",
    "numeric_transformer = Pipeline(\n",
    "    steps=[(\"imputer\", KNNImputer()), (\"scaler\", MaxAbsScaler())]\n",
    ")\n",
    "\n",
    "# setting-up the preprocessing steps\n",
    "if one_hot_encode:\n",
    "    categorical_transformer = OneHotEncoder(handle_unknown='ignore', sparse=False)\n",
    "    preprocessor = ColumnTransformer(\n",
    "        transformers=[\n",
    "            (\"num\", numeric_transformer, num_indexes),\n",
    "            (\"cat\", categorical_transformer, cat_indexes),\n",
    "        ]\n",
    "    )\n",
    "else:\n",
    "    preprocessor = ColumnTransformer(\n",
    "        transformers=[\n",
    "            (\"num\", numeric_transformer, num_indexes + cat_indexes),\n",
    "        ]\n",
    "    )\n",
    "    \n",
    "# defining the model pipeline and training\n",
    "model = Pipeline(\n",
    "    steps=[(\"preprocessor\", preprocessor),\n",
    "           (\"classifier\", RandomForestClassifier(n_jobs=-1, random_state=0))]\n",
    ").fit(X_train.values, y_train.values)"
   ]
  },
  {
   "cell_type": "markdown",
   "id": "3807188f-ca1c-44f2-baac-83e951b3df56",
   "metadata": {},
   "source": [
    "## Preparing counterfactual generation with DiCE"
   ]
  },
  {
   "cell_type": "code",
   "execution_count": 9,
   "id": "ad7758a8-1200-402b-965b-b92347e76792",
   "metadata": {},
   "outputs": [],
   "source": [
    "continuous_precision = {}\n",
    "for col in num_columns:\n",
    "    continuous_precision[col] = 0\n",
    "\n",
    "d = dice_ml.Data(dataframe=pd.concat([X_train, y_train], axis=1),\n",
    "                 continuous_features=num_columns,\n",
    "                 continuous_features_precision=continuous_precision,\n",
    "                 outcome_name=target)\n",
    "m = dice_ml.Model(model=model, backend='sklearn')\n",
    "exp = dice_ml.Dice(d,m)"
   ]
  },
  {
   "cell_type": "markdown",
   "id": "fd27e496-b3de-44e7-9b87-43aa9813eff8",
   "metadata": {},
   "source": [
    "## Preparing counterfactual generation with XMOAI"
   ]
  },
  {
   "cell_type": "code",
   "execution_count": 10,
   "id": "9a8db960-ee39-4b4e-bffe-97cc90a036bf",
   "metadata": {},
   "outputs": [
    {
     "data": {
      "text/plain": [
       "[]"
      ]
     },
     "metadata": {},
     "output_type": "display_data"
    },
    {
     "data": {
      "text/plain": [
       "{1: array([0, 1]),\n",
       " 2: array([0, 1, 2, 3], dtype=int64),\n",
       " 3: array([0, 1, 2]),\n",
       " 4: array([0, 1, 2, 3]),\n",
       " 5: array([0, 1, 2]),\n",
       " 8: array([0, 1, 2, 3, 4, 5, 6, 7])}"
      ]
     },
     "metadata": {},
     "output_type": "display_data"
    }
   ],
   "source": [
    "columns = X_train.columns\n",
    "categorical_columns_one_hot_encoded = []\n",
    "categorical_columns_label_encoded = {}\n",
    "\n",
    "if one_hot_encode and type(model)==Pipeline:\n",
    "    for cat_col in cat_columns:\n",
    "        columns_in_cat = [col for col in columns if col.startswith(f'{cat_col}_')]\n",
    "        columns_in_cat = np.argwhere(np.isin(columns, columns_in_cat)).flatten()\n",
    "        \n",
    "        if len(columns_in_cat) > 0:\n",
    "            categorical_columns_one_hot_encoded.append(columns_in_cat)\n",
    "else:\n",
    "    for i in range(len(X_train.columns)):\n",
    "        if X_train.columns[i] in cat_columns:\n",
    "            categorical_columns_label_encoded[i] = np.sort(X_train[X_train.columns[i]].unique())\n",
    "        \n",
    "display(categorical_columns_one_hot_encoded)\n",
    "display(categorical_columns_label_encoded)"
   ]
  },
  {
   "cell_type": "code",
   "execution_count": 11,
   "id": "c3d25b6a-bcf8-448a-b295-bf59faac5c69",
   "metadata": {},
   "outputs": [],
   "source": [
    "# generating counterfactuals\n",
    "immutable_column_indexes = [] # let's say we can't change the last column\n",
    "y_acceptable_range = [0.51, 1.0] # we will only accept counterfactuals with the predicted prob. in this range\n",
    "\n",
    "upper_bounds = np.array(X_train.max(axis=0)*1.0) # this is the maximum allowed number per column\n",
    "lower_bounds = np.array(X_train.min(axis=0)*1.0) # this is the minimum allowed number per column.\n",
    "# you may change the bounds depending on the needs specific to the individual being trained."
   ]
  },
  {
   "cell_type": "markdown",
   "id": "94628685-96cd-4c4b-88e2-764eb3f2e334",
   "metadata": {},
   "source": [
    "## Generating counterfactuals"
   ]
  },
  {
   "cell_type": "code",
   "execution_count": 12,
   "id": "78d0cda9-b378-4a26-8057-9c387bba4821",
   "metadata": {},
   "outputs": [
    {
     "data": {
      "text/plain": [
       "CounterfactualProto(meta={\n",
       "  'name': 'CounterfactualProto',\n",
       "  'type': ['blackbox', 'tensorflow', 'keras'],\n",
       "  'explanations': ['local'],\n",
       "  'params': {\n",
       "              'kappa': 0.0,\n",
       "              'beta': 0.1,\n",
       "              'feature_range': (array([[ 20.,   0.,   0.,   0.,   0.,   0., 428.,   6.,   0.]],\n",
       "      dtype=float32), array([[7.4000e+01, 1.0000e+00, 3.0000e+00, 2.0000e+00, 3.0000e+00,\n",
       "        2.0000e+00, 1.8424e+04, 7.2000e+01, 7.0000e+00]], dtype=float32)),\n",
       "              'gamma': 0.0,\n",
       "              'theta': 0.0,\n",
       "              'cat_vars': {1: 2, 2: 4, 3: 3, 4: 4, 5: 3, 8: 8},\n",
       "              'ohe': False,\n",
       "              'use_kdtree': False,\n",
       "              'learning_rate_init': 0.01,\n",
       "              'max_iterations': 200,\n",
       "              'c_init': 10.0,\n",
       "              'c_steps': 3,\n",
       "              'eps': (0.001, 0.001),\n",
       "              'clip': (-1000.0, 1000.0),\n",
       "              'update_num_grad': 1,\n",
       "              'write_dir': None,\n",
       "              'shape': (1, 9),\n",
       "              'is_model': False,\n",
       "              'is_ae': False,\n",
       "              'is_enc': False,\n",
       "              'enc_or_kdtree': False,\n",
       "              'is_cat': True,\n",
       "              'trustscore_kwargs': None,\n",
       "              'd_type': 'abdm',\n",
       "              'w': None,\n",
       "              'disc_perc': (25, 50, 75),\n",
       "              'standardize_cat_vars': False,\n",
       "              'smooth': 1.0,\n",
       "              'center': True,\n",
       "              'update_feature_range': True}\n",
       "            ,\n",
       "  'version': '0.6.2'}\n",
       ")"
      ]
     },
     "execution_count": 12,
     "metadata": {},
     "output_type": "execute_result"
    }
   ],
   "source": [
    "cat_vars_ord = {}\n",
    "for i in categorical_columns_label_encoded.keys():\n",
    "    cat_vars_ord[i] = len(np.unique(X_train.values[:, i]))\n",
    "cat_vars_ord\n",
    "\n",
    "cf = CounterfactualProto(sess=tf.compat.v1.keras.backend.get_session(),\n",
    "                         predict=lambda x: model.predict_proba(x),\n",
    "                         shape=(1,) + X_test.shape[1:],\n",
    "                         cat_vars=cat_vars_ord,\n",
    "                         feature_range=(np.array([X_train.min().values]).astype(np.float32), np.array([X_train.max().values]).astype(np.float32)),\n",
    "                         max_iterations=200,\n",
    "                         c_steps=3\n",
    "                        )\n",
    "cf.fit(X_train.values)"
   ]
  },
  {
   "cell_type": "code",
   "execution_count": 13,
   "id": "41339463-77e9-48a6-97ff-36d37a0e2865",
   "metadata": {},
   "outputs": [
    {
     "name": "stderr",
     "output_type": "stream",
     "text": [
      "100%|███████████████████████████████████████████████████████████████████████████████████████████████████████████████████| 150/150 [1:13:01<00:00, 29.21s/it]\n"
     ]
    }
   ],
   "source": [
    "number_of_instances = 150\n",
    "dice_all_exp = exp.generate_counterfactuals(X_test.iloc[:number_of_instances], total_CFs=100, desired_class=\"opposite\")"
   ]
  },
  {
   "cell_type": "code",
   "execution_count": 14,
   "id": "587f8189-7f85-417b-b654-b821fded947c",
   "metadata": {},
   "outputs": [],
   "source": [
    "results = {}"
   ]
  },
  {
   "cell_type": "code",
   "execution_count": 20,
   "id": "412b3ab0-111d-4177-b862-6d9815dcf945",
   "metadata": {},
   "outputs": [
    {
     "data": {
      "text/plain": [
       "(33, 26, 34, 57)"
      ]
     },
     "metadata": {},
     "output_type": "display_data"
    },
    {
     "data": {
      "text/plain": [
       "Int64Index([], dtype='int64')"
      ]
     },
     "metadata": {},
     "output_type": "display_data"
    },
    {
     "data": {
      "text/plain": [
       "Int64Index([], dtype='int64')"
      ]
     },
     "metadata": {},
     "output_type": "display_data"
    }
   ],
   "source": [
    "tn, fp, fn, tp = confusion_matrix(y_test.iloc[:number_of_instances], model.predict(X_test.iloc[:number_of_instances])).ravel()\n",
    "display((tn, fp, fn, tp))\n",
    "\n",
    "display(y_test[(y_test==1) & (y_test==model.predict(X_test))].index[:5])\n",
    "display(y_test[(y_test==0) & (y_test==model.predict(X_test))].index[:5])"
   ]
  },
  {
   "cell_type": "code",
   "execution_count": 17,
   "id": "a9b7789c-b9d1-464b-8f48-5de1be402c52",
   "metadata": {
    "tags": []
   },
   "outputs": [
    {
     "name": "stdout",
     "output_type": "stream",
     "text": [
      "Processing 0\n",
      "Processing DiCE\n",
      "Processing XMOAI\n",
      "Processing Alibi\n"
     ]
    },
    {
     "name": "stderr",
     "output_type": "stream",
     "text": [
      "No counterfactual found!\n"
     ]
    },
    {
     "name": "stdout",
     "output_type": "stream",
     "text": [
      "Processing 1\n",
      "Processing DiCE\n",
      "Processing XMOAI\n",
      "Processing Alibi\n",
      "Processing 2\n",
      "Processing DiCE\n",
      "Processing XMOAI\n",
      "Processing Alibi\n",
      "Processing 3\n",
      "Processing DiCE\n",
      "Processing XMOAI\n",
      "Processing Alibi\n",
      "Processing 4\n",
      "Processing DiCE\n",
      "Processing XMOAI\n",
      "Processing Alibi\n"
     ]
    },
    {
     "name": "stderr",
     "output_type": "stream",
     "text": [
      "No counterfactual found!\n"
     ]
    },
    {
     "name": "stdout",
     "output_type": "stream",
     "text": [
      "Processing 5\n",
      "Processing DiCE\n",
      "Processing XMOAI\n",
      "Processing Alibi\n"
     ]
    },
    {
     "name": "stderr",
     "output_type": "stream",
     "text": [
      "No counterfactual found!\n"
     ]
    },
    {
     "name": "stdout",
     "output_type": "stream",
     "text": [
      "Processing 6\n",
      "Processing DiCE\n",
      "Processing XMOAI\n",
      "Processing Alibi\n"
     ]
    },
    {
     "name": "stderr",
     "output_type": "stream",
     "text": [
      "No counterfactual found!\n"
     ]
    },
    {
     "name": "stdout",
     "output_type": "stream",
     "text": [
      "Processing 7\n",
      "Processing DiCE\n",
      "Processing XMOAI\n",
      "Processing Alibi\n"
     ]
    },
    {
     "name": "stderr",
     "output_type": "stream",
     "text": [
      "No counterfactual found!\n"
     ]
    },
    {
     "name": "stdout",
     "output_type": "stream",
     "text": [
      "Processing 8\n",
      "Processing DiCE\n",
      "Processing XMOAI\n",
      "Processing Alibi\n",
      "Processing 9\n",
      "Processing DiCE\n",
      "Processing XMOAI\n",
      "Processing Alibi\n"
     ]
    },
    {
     "name": "stderr",
     "output_type": "stream",
     "text": [
      "No counterfactual found!\n"
     ]
    },
    {
     "name": "stdout",
     "output_type": "stream",
     "text": [
      "Processing 10\n",
      "Processing DiCE\n",
      "Processing XMOAI\n",
      "Processing Alibi\n",
      "Processing 11\n",
      "Processing DiCE\n",
      "Processing XMOAI\n",
      "Processing Alibi\n"
     ]
    },
    {
     "name": "stderr",
     "output_type": "stream",
     "text": [
      "No counterfactual found!\n"
     ]
    },
    {
     "name": "stdout",
     "output_type": "stream",
     "text": [
      "Processing 12\n",
      "Processing DiCE\n",
      "Processing XMOAI\n",
      "Processing Alibi\n"
     ]
    },
    {
     "name": "stderr",
     "output_type": "stream",
     "text": [
      "No counterfactual found!\n"
     ]
    },
    {
     "name": "stdout",
     "output_type": "stream",
     "text": [
      "Processing 13\n",
      "Processing DiCE\n",
      "Processing XMOAI\n",
      "Processing Alibi\n"
     ]
    },
    {
     "name": "stderr",
     "output_type": "stream",
     "text": [
      "No counterfactual found!\n"
     ]
    },
    {
     "name": "stdout",
     "output_type": "stream",
     "text": [
      "Processing 14\n",
      "Processing DiCE\n",
      "Processing XMOAI\n",
      "Processing Alibi\n"
     ]
    },
    {
     "name": "stderr",
     "output_type": "stream",
     "text": [
      "No counterfactual found!\n"
     ]
    },
    {
     "name": "stdout",
     "output_type": "stream",
     "text": [
      "Processing 15\n",
      "Processing DiCE\n",
      "Processing XMOAI\n",
      "Processing Alibi\n"
     ]
    },
    {
     "name": "stderr",
     "output_type": "stream",
     "text": [
      "No counterfactual found!\n"
     ]
    },
    {
     "name": "stdout",
     "output_type": "stream",
     "text": [
      "Processing 16\n",
      "Processing DiCE\n",
      "Processing XMOAI\n",
      "Processing Alibi\n"
     ]
    },
    {
     "data": {
      "text/plain": [
       "'Error in Alibi. Resuming...'"
      ]
     },
     "metadata": {},
     "output_type": "display_data"
    },
    {
     "name": "stdout",
     "output_type": "stream",
     "text": [
      "Processing 17\n",
      "Processing DiCE\n",
      "Processing XMOAI\n",
      "Processing Alibi\n"
     ]
    },
    {
     "name": "stderr",
     "output_type": "stream",
     "text": [
      "No counterfactual found!\n"
     ]
    },
    {
     "name": "stdout",
     "output_type": "stream",
     "text": [
      "Processing 18\n",
      "Processing DiCE\n",
      "Processing XMOAI\n",
      "Processing Alibi\n"
     ]
    },
    {
     "name": "stderr",
     "output_type": "stream",
     "text": [
      "No counterfactual found!\n"
     ]
    },
    {
     "name": "stdout",
     "output_type": "stream",
     "text": [
      "Processing 19\n",
      "Processing DiCE\n",
      "Processing XMOAI\n",
      "Processing Alibi\n",
      "Processing 20\n",
      "Processing DiCE\n",
      "Processing XMOAI\n",
      "Processing Alibi\n",
      "Processing 21\n",
      "Processing DiCE\n",
      "Processing XMOAI\n",
      "Processing Alibi\n"
     ]
    },
    {
     "name": "stderr",
     "output_type": "stream",
     "text": [
      "No counterfactual found!\n"
     ]
    },
    {
     "name": "stdout",
     "output_type": "stream",
     "text": [
      "Processing 22\n",
      "Processing DiCE\n",
      "Processing XMOAI\n",
      "Processing Alibi\n"
     ]
    },
    {
     "name": "stderr",
     "output_type": "stream",
     "text": [
      "No counterfactual found!\n"
     ]
    },
    {
     "name": "stdout",
     "output_type": "stream",
     "text": [
      "Processing 23\n",
      "Processing DiCE\n",
      "Processing XMOAI\n",
      "Processing Alibi\n",
      "Processing 24\n",
      "Processing DiCE\n",
      "Processing XMOAI\n",
      "Processing Alibi\n"
     ]
    },
    {
     "name": "stderr",
     "output_type": "stream",
     "text": [
      "No counterfactual found!\n"
     ]
    },
    {
     "name": "stdout",
     "output_type": "stream",
     "text": [
      "Processing 25\n",
      "Processing DiCE\n",
      "Processing XMOAI\n",
      "Processing Alibi\n"
     ]
    },
    {
     "name": "stderr",
     "output_type": "stream",
     "text": [
      "No counterfactual found!\n"
     ]
    },
    {
     "name": "stdout",
     "output_type": "stream",
     "text": [
      "Processing 26\n",
      "Processing DiCE\n",
      "Processing XMOAI\n",
      "Processing Alibi\n",
      "Processing 27\n",
      "Processing DiCE\n",
      "Processing XMOAI\n",
      "Processing Alibi\n"
     ]
    },
    {
     "name": "stderr",
     "output_type": "stream",
     "text": [
      "No counterfactual found!\n"
     ]
    },
    {
     "name": "stdout",
     "output_type": "stream",
     "text": [
      "Processing 28\n",
      "Processing DiCE\n",
      "Processing XMOAI\n",
      "Processing Alibi\n",
      "Processing 29\n",
      "Processing DiCE\n",
      "Processing XMOAI\n",
      "Processing Alibi\n"
     ]
    },
    {
     "name": "stderr",
     "output_type": "stream",
     "text": [
      "No counterfactual found!\n"
     ]
    },
    {
     "name": "stdout",
     "output_type": "stream",
     "text": [
      "Processing 30\n",
      "Processing DiCE\n",
      "Processing XMOAI\n",
      "Processing Alibi\n"
     ]
    },
    {
     "name": "stderr",
     "output_type": "stream",
     "text": [
      "No counterfactual found!\n"
     ]
    },
    {
     "name": "stdout",
     "output_type": "stream",
     "text": [
      "Processing 31\n",
      "Processing DiCE\n",
      "Processing XMOAI\n",
      "Processing Alibi\n"
     ]
    },
    {
     "name": "stderr",
     "output_type": "stream",
     "text": [
      "No counterfactual found!\n"
     ]
    },
    {
     "name": "stdout",
     "output_type": "stream",
     "text": [
      "Processing 32\n",
      "Processing DiCE\n",
      "Processing XMOAI\n",
      "Processing Alibi\n"
     ]
    },
    {
     "name": "stderr",
     "output_type": "stream",
     "text": [
      "No counterfactual found!\n"
     ]
    },
    {
     "name": "stdout",
     "output_type": "stream",
     "text": [
      "Processing 33\n",
      "Processing DiCE\n",
      "Processing XMOAI\n",
      "Processing Alibi\n"
     ]
    },
    {
     "name": "stderr",
     "output_type": "stream",
     "text": [
      "No counterfactual found!\n"
     ]
    },
    {
     "name": "stdout",
     "output_type": "stream",
     "text": [
      "Processing 34\n",
      "Processing DiCE\n",
      "Processing XMOAI\n",
      "Processing Alibi\n"
     ]
    },
    {
     "name": "stderr",
     "output_type": "stream",
     "text": [
      "No counterfactual found!\n"
     ]
    },
    {
     "name": "stdout",
     "output_type": "stream",
     "text": [
      "Processing 35\n",
      "Processing DiCE\n",
      "Processing XMOAI\n",
      "Processing Alibi\n"
     ]
    },
    {
     "name": "stderr",
     "output_type": "stream",
     "text": [
      "No counterfactual found!\n"
     ]
    },
    {
     "name": "stdout",
     "output_type": "stream",
     "text": [
      "Processing 36\n",
      "Processing DiCE\n",
      "Processing XMOAI\n",
      "Processing Alibi\n"
     ]
    },
    {
     "name": "stderr",
     "output_type": "stream",
     "text": [
      "No counterfactual found!\n"
     ]
    },
    {
     "name": "stdout",
     "output_type": "stream",
     "text": [
      "Processing 37\n",
      "Processing DiCE\n",
      "Processing XMOAI\n",
      "Processing Alibi\n"
     ]
    },
    {
     "name": "stderr",
     "output_type": "stream",
     "text": [
      "No counterfactual found!\n"
     ]
    },
    {
     "name": "stdout",
     "output_type": "stream",
     "text": [
      "Processing 38\n",
      "Processing DiCE\n",
      "Processing XMOAI\n",
      "Processing Alibi\n"
     ]
    },
    {
     "name": "stderr",
     "output_type": "stream",
     "text": [
      "No counterfactual found!\n"
     ]
    },
    {
     "name": "stdout",
     "output_type": "stream",
     "text": [
      "Processing 39\n",
      "Processing DiCE\n",
      "Processing XMOAI\n",
      "Processing Alibi\n",
      "Processing 40\n",
      "Processing DiCE\n",
      "Processing XMOAI\n",
      "Processing Alibi\n"
     ]
    },
    {
     "name": "stderr",
     "output_type": "stream",
     "text": [
      "No counterfactual found!\n"
     ]
    },
    {
     "name": "stdout",
     "output_type": "stream",
     "text": [
      "Processing 41\n",
      "Processing DiCE\n",
      "Processing XMOAI\n",
      "Processing Alibi\n"
     ]
    },
    {
     "name": "stderr",
     "output_type": "stream",
     "text": [
      "No counterfactual found!\n"
     ]
    },
    {
     "name": "stdout",
     "output_type": "stream",
     "text": [
      "Processing 42\n",
      "Processing DiCE\n",
      "Processing XMOAI\n",
      "Processing Alibi\n"
     ]
    },
    {
     "name": "stderr",
     "output_type": "stream",
     "text": [
      "No counterfactual found!\n"
     ]
    },
    {
     "name": "stdout",
     "output_type": "stream",
     "text": [
      "Processing 43\n",
      "Processing DiCE\n",
      "Processing XMOAI\n",
      "Processing Alibi\n"
     ]
    },
    {
     "name": "stderr",
     "output_type": "stream",
     "text": [
      "No counterfactual found!\n"
     ]
    },
    {
     "name": "stdout",
     "output_type": "stream",
     "text": [
      "Processing 44\n",
      "Processing DiCE\n",
      "Processing XMOAI\n",
      "Processing Alibi\n"
     ]
    },
    {
     "name": "stderr",
     "output_type": "stream",
     "text": [
      "No counterfactual found!\n"
     ]
    },
    {
     "name": "stdout",
     "output_type": "stream",
     "text": [
      "Processing 45\n",
      "Processing DiCE\n",
      "Processing XMOAI\n",
      "Processing Alibi\n",
      "Processing 46\n",
      "Processing DiCE\n",
      "Processing XMOAI\n",
      "Processing Alibi\n",
      "Processing 47\n",
      "Processing DiCE\n",
      "Processing XMOAI\n",
      "Processing Alibi\n"
     ]
    },
    {
     "name": "stderr",
     "output_type": "stream",
     "text": [
      "No counterfactual found!\n"
     ]
    },
    {
     "name": "stdout",
     "output_type": "stream",
     "text": [
      "Processing 48\n",
      "Processing DiCE\n",
      "Processing XMOAI\n",
      "Processing Alibi\n"
     ]
    },
    {
     "name": "stderr",
     "output_type": "stream",
     "text": [
      "No counterfactual found!\n"
     ]
    },
    {
     "name": "stdout",
     "output_type": "stream",
     "text": [
      "Processing 49\n",
      "Processing DiCE\n",
      "Processing XMOAI\n",
      "Processing Alibi\n"
     ]
    },
    {
     "name": "stderr",
     "output_type": "stream",
     "text": [
      "No counterfactual found!\n"
     ]
    },
    {
     "name": "stdout",
     "output_type": "stream",
     "text": [
      "Processing 50\n",
      "Processing DiCE\n",
      "Processing XMOAI\n",
      "Processing Alibi\n",
      "Processing 51\n",
      "Processing DiCE\n",
      "Processing XMOAI\n",
      "Processing Alibi\n"
     ]
    },
    {
     "name": "stderr",
     "output_type": "stream",
     "text": [
      "No counterfactual found!\n"
     ]
    },
    {
     "name": "stdout",
     "output_type": "stream",
     "text": [
      "Processing 52\n",
      "Processing DiCE\n",
      "Processing XMOAI\n",
      "Processing Alibi\n"
     ]
    },
    {
     "name": "stderr",
     "output_type": "stream",
     "text": [
      "No counterfactual found!\n"
     ]
    },
    {
     "name": "stdout",
     "output_type": "stream",
     "text": [
      "Processing 53\n",
      "Processing DiCE\n",
      "Processing XMOAI\n",
      "Processing Alibi\n"
     ]
    },
    {
     "name": "stderr",
     "output_type": "stream",
     "text": [
      "No counterfactual found!\n"
     ]
    },
    {
     "name": "stdout",
     "output_type": "stream",
     "text": [
      "Processing 54\n",
      "Processing DiCE\n",
      "Processing XMOAI\n",
      "Processing Alibi\n",
      "Processing 55\n",
      "Processing DiCE\n",
      "Processing XMOAI\n",
      "Processing Alibi\n"
     ]
    },
    {
     "name": "stderr",
     "output_type": "stream",
     "text": [
      "No counterfactual found!\n"
     ]
    },
    {
     "name": "stdout",
     "output_type": "stream",
     "text": [
      "Processing 56\n",
      "Processing DiCE\n",
      "Processing XMOAI\n",
      "Processing Alibi\n",
      "Processing 57\n",
      "Processing DiCE\n",
      "Processing XMOAI\n",
      "Processing Alibi\n",
      "Processing 58\n",
      "Processing DiCE\n",
      "Processing XMOAI\n",
      "Processing Alibi\n",
      "Processing 59\n",
      "Processing DiCE\n",
      "Processing XMOAI\n",
      "Processing Alibi\n"
     ]
    },
    {
     "name": "stderr",
     "output_type": "stream",
     "text": [
      "No counterfactual found!\n"
     ]
    },
    {
     "name": "stdout",
     "output_type": "stream",
     "text": [
      "Processing 60\n",
      "Processing DiCE\n",
      "Processing XMOAI\n",
      "Processing Alibi\n",
      "Processing 61\n",
      "Processing DiCE\n",
      "Processing XMOAI\n",
      "Processing Alibi\n",
      "Processing 62\n",
      "Processing DiCE\n",
      "Processing XMOAI\n",
      "Processing Alibi\n"
     ]
    },
    {
     "name": "stderr",
     "output_type": "stream",
     "text": [
      "No counterfactual found!\n"
     ]
    },
    {
     "name": "stdout",
     "output_type": "stream",
     "text": [
      "Processing 63\n",
      "Processing DiCE\n",
      "Processing XMOAI\n",
      "Processing Alibi\n"
     ]
    },
    {
     "name": "stderr",
     "output_type": "stream",
     "text": [
      "No counterfactual found!\n"
     ]
    },
    {
     "name": "stdout",
     "output_type": "stream",
     "text": [
      "Processing 64\n",
      "Processing DiCE\n",
      "Processing XMOAI\n",
      "Processing Alibi\n"
     ]
    },
    {
     "name": "stderr",
     "output_type": "stream",
     "text": [
      "No counterfactual found!\n"
     ]
    },
    {
     "name": "stdout",
     "output_type": "stream",
     "text": [
      "Processing 65\n",
      "Processing DiCE\n",
      "Processing XMOAI\n",
      "Processing Alibi\n"
     ]
    },
    {
     "name": "stderr",
     "output_type": "stream",
     "text": [
      "No counterfactual found!\n"
     ]
    },
    {
     "name": "stdout",
     "output_type": "stream",
     "text": [
      "Processing 66\n",
      "Processing DiCE\n",
      "Processing XMOAI\n",
      "Processing Alibi\n",
      "Processing 67\n",
      "Processing DiCE\n",
      "Processing XMOAI\n",
      "Processing Alibi\n"
     ]
    },
    {
     "name": "stderr",
     "output_type": "stream",
     "text": [
      "No counterfactual found!\n"
     ]
    },
    {
     "name": "stdout",
     "output_type": "stream",
     "text": [
      "Processing 68\n",
      "Processing DiCE\n",
      "Processing XMOAI\n",
      "Processing Alibi\n",
      "Processing 69\n",
      "Processing DiCE\n",
      "Processing XMOAI\n",
      "Processing Alibi\n"
     ]
    },
    {
     "name": "stderr",
     "output_type": "stream",
     "text": [
      "No counterfactual found!\n"
     ]
    },
    {
     "name": "stdout",
     "output_type": "stream",
     "text": [
      "Processing 70\n",
      "Processing DiCE\n",
      "Processing XMOAI\n",
      "Processing Alibi\n",
      "Processing 71\n",
      "Processing DiCE\n",
      "Processing XMOAI\n",
      "Processing Alibi\n",
      "Processing 72\n",
      "Processing DiCE\n",
      "Processing XMOAI\n",
      "Processing Alibi\n",
      "Processing 73\n",
      "Processing DiCE\n",
      "Processing XMOAI\n",
      "Processing Alibi\n",
      "Processing 74\n",
      "Processing DiCE\n",
      "Processing XMOAI\n",
      "Processing Alibi\n"
     ]
    },
    {
     "name": "stderr",
     "output_type": "stream",
     "text": [
      "No counterfactual found!\n"
     ]
    },
    {
     "name": "stdout",
     "output_type": "stream",
     "text": [
      "Processing 75\n",
      "Processing DiCE\n",
      "Processing XMOAI\n",
      "Processing Alibi\n",
      "Processing 76\n",
      "Processing DiCE\n",
      "Processing XMOAI\n",
      "Processing Alibi\n"
     ]
    },
    {
     "name": "stderr",
     "output_type": "stream",
     "text": [
      "No counterfactual found!\n"
     ]
    },
    {
     "name": "stdout",
     "output_type": "stream",
     "text": [
      "Processing 77\n",
      "Processing DiCE\n",
      "Processing XMOAI\n",
      "Processing Alibi\n"
     ]
    },
    {
     "name": "stderr",
     "output_type": "stream",
     "text": [
      "No counterfactual found!\n"
     ]
    },
    {
     "name": "stdout",
     "output_type": "stream",
     "text": [
      "Processing 78\n",
      "Processing DiCE\n",
      "Processing XMOAI\n",
      "Processing Alibi\n"
     ]
    },
    {
     "name": "stderr",
     "output_type": "stream",
     "text": [
      "No counterfactual found!\n"
     ]
    },
    {
     "name": "stdout",
     "output_type": "stream",
     "text": [
      "Processing 79\n",
      "Processing DiCE\n",
      "Processing XMOAI\n",
      "Processing Alibi\n"
     ]
    },
    {
     "name": "stderr",
     "output_type": "stream",
     "text": [
      "No counterfactual found!\n"
     ]
    },
    {
     "name": "stdout",
     "output_type": "stream",
     "text": [
      "Processing 80\n",
      "Processing DiCE\n",
      "Processing XMOAI\n",
      "Processing Alibi\n"
     ]
    },
    {
     "name": "stderr",
     "output_type": "stream",
     "text": [
      "No counterfactual found!\n"
     ]
    },
    {
     "name": "stdout",
     "output_type": "stream",
     "text": [
      "Processing 81\n",
      "Processing DiCE\n",
      "Processing XMOAI\n",
      "Processing Alibi\n"
     ]
    },
    {
     "name": "stderr",
     "output_type": "stream",
     "text": [
      "No counterfactual found!\n"
     ]
    },
    {
     "name": "stdout",
     "output_type": "stream",
     "text": [
      "Processing 82\n",
      "Processing DiCE\n",
      "Processing XMOAI\n",
      "Processing Alibi\n"
     ]
    },
    {
     "name": "stderr",
     "output_type": "stream",
     "text": [
      "No counterfactual found!\n"
     ]
    },
    {
     "name": "stdout",
     "output_type": "stream",
     "text": [
      "Processing 83\n",
      "Processing DiCE\n",
      "Processing XMOAI\n",
      "Processing Alibi\n"
     ]
    },
    {
     "name": "stderr",
     "output_type": "stream",
     "text": [
      "No counterfactual found!\n"
     ]
    },
    {
     "name": "stdout",
     "output_type": "stream",
     "text": [
      "Processing 84\n",
      "Processing DiCE\n",
      "Processing XMOAI\n",
      "Processing Alibi\n"
     ]
    },
    {
     "name": "stderr",
     "output_type": "stream",
     "text": [
      "No counterfactual found!\n"
     ]
    },
    {
     "name": "stdout",
     "output_type": "stream",
     "text": [
      "Processing 85\n",
      "Processing DiCE\n",
      "Processing XMOAI\n",
      "Processing Alibi\n",
      "Processing 86\n",
      "Processing DiCE\n",
      "Processing XMOAI\n",
      "Processing Alibi\n"
     ]
    },
    {
     "name": "stderr",
     "output_type": "stream",
     "text": [
      "No counterfactual found!\n"
     ]
    },
    {
     "name": "stdout",
     "output_type": "stream",
     "text": [
      "Processing 87\n",
      "Processing DiCE\n",
      "Processing XMOAI\n",
      "Processing Alibi\n",
      "Processing 88\n",
      "Processing DiCE\n",
      "Processing XMOAI\n",
      "Processing Alibi\n"
     ]
    },
    {
     "name": "stderr",
     "output_type": "stream",
     "text": [
      "No counterfactual found!\n"
     ]
    },
    {
     "name": "stdout",
     "output_type": "stream",
     "text": [
      "Processing 89\n",
      "Processing DiCE\n",
      "Processing XMOAI\n",
      "Processing Alibi\n"
     ]
    },
    {
     "name": "stderr",
     "output_type": "stream",
     "text": [
      "No counterfactual found!\n"
     ]
    },
    {
     "name": "stdout",
     "output_type": "stream",
     "text": [
      "Processing 90\n",
      "Processing DiCE\n",
      "Processing XMOAI\n",
      "Processing Alibi\n",
      "Processing 91\n",
      "Processing DiCE\n",
      "Processing XMOAI\n",
      "Processing Alibi\n"
     ]
    },
    {
     "name": "stderr",
     "output_type": "stream",
     "text": [
      "No counterfactual found!\n"
     ]
    },
    {
     "name": "stdout",
     "output_type": "stream",
     "text": [
      "Processing 92\n",
      "Processing DiCE\n",
      "Processing XMOAI\n",
      "Processing Alibi\n",
      "Processing 93\n",
      "Processing DiCE\n",
      "Processing XMOAI\n",
      "Processing Alibi\n"
     ]
    },
    {
     "name": "stderr",
     "output_type": "stream",
     "text": [
      "No counterfactual found!\n"
     ]
    },
    {
     "name": "stdout",
     "output_type": "stream",
     "text": [
      "Processing 94\n",
      "Processing DiCE\n",
      "Processing XMOAI\n",
      "Processing Alibi\n"
     ]
    },
    {
     "name": "stderr",
     "output_type": "stream",
     "text": [
      "No counterfactual found!\n"
     ]
    },
    {
     "name": "stdout",
     "output_type": "stream",
     "text": [
      "Processing 95\n",
      "Processing DiCE\n",
      "Processing XMOAI\n",
      "Processing Alibi\n",
      "Processing 96\n",
      "Processing DiCE\n",
      "Processing XMOAI\n",
      "Processing Alibi\n",
      "Processing 97\n",
      "Processing DiCE\n",
      "Processing XMOAI\n",
      "Processing Alibi\n",
      "Processing 98\n",
      "Processing DiCE\n",
      "Processing XMOAI\n",
      "Processing Alibi\n"
     ]
    },
    {
     "name": "stderr",
     "output_type": "stream",
     "text": [
      "No counterfactual found!\n"
     ]
    },
    {
     "name": "stdout",
     "output_type": "stream",
     "text": [
      "Processing 99\n",
      "Processing DiCE\n",
      "Processing XMOAI\n",
      "Processing Alibi\n"
     ]
    },
    {
     "name": "stderr",
     "output_type": "stream",
     "text": [
      "No counterfactual found!\n"
     ]
    },
    {
     "name": "stdout",
     "output_type": "stream",
     "text": [
      "Processing 100\n",
      "Processing DiCE\n",
      "Processing XMOAI\n",
      "Processing Alibi\n"
     ]
    },
    {
     "name": "stderr",
     "output_type": "stream",
     "text": [
      "No counterfactual found!\n"
     ]
    },
    {
     "name": "stdout",
     "output_type": "stream",
     "text": [
      "Processing 101\n",
      "Processing DiCE\n",
      "Processing XMOAI\n",
      "Processing Alibi\n"
     ]
    },
    {
     "name": "stderr",
     "output_type": "stream",
     "text": [
      "No counterfactual found!\n"
     ]
    },
    {
     "name": "stdout",
     "output_type": "stream",
     "text": [
      "Processing 102\n",
      "Processing DiCE\n",
      "Processing XMOAI\n",
      "Processing Alibi\n",
      "Processing 103\n",
      "Processing DiCE\n",
      "Processing XMOAI\n",
      "Processing Alibi\n"
     ]
    },
    {
     "name": "stderr",
     "output_type": "stream",
     "text": [
      "No counterfactual found!\n"
     ]
    },
    {
     "name": "stdout",
     "output_type": "stream",
     "text": [
      "Processing 104\n",
      "Processing DiCE\n",
      "Processing XMOAI\n",
      "Processing Alibi\n"
     ]
    },
    {
     "name": "stderr",
     "output_type": "stream",
     "text": [
      "No counterfactual found!\n"
     ]
    },
    {
     "name": "stdout",
     "output_type": "stream",
     "text": [
      "Processing 105\n",
      "Processing DiCE\n",
      "Processing XMOAI\n",
      "Processing Alibi\n",
      "Processing 106\n",
      "Processing DiCE\n",
      "Processing XMOAI\n",
      "Processing Alibi\n"
     ]
    },
    {
     "name": "stderr",
     "output_type": "stream",
     "text": [
      "No counterfactual found!\n"
     ]
    },
    {
     "name": "stdout",
     "output_type": "stream",
     "text": [
      "Processing 107\n",
      "Processing DiCE\n",
      "Processing XMOAI\n",
      "Processing Alibi\n"
     ]
    },
    {
     "name": "stderr",
     "output_type": "stream",
     "text": [
      "No counterfactual found!\n"
     ]
    },
    {
     "name": "stdout",
     "output_type": "stream",
     "text": [
      "Processing 108\n",
      "Processing DiCE\n",
      "Processing XMOAI\n",
      "Processing Alibi\n"
     ]
    },
    {
     "name": "stderr",
     "output_type": "stream",
     "text": [
      "No counterfactual found!\n"
     ]
    },
    {
     "name": "stdout",
     "output_type": "stream",
     "text": [
      "Processing 109\n",
      "Processing DiCE\n",
      "Processing XMOAI\n",
      "Processing Alibi\n",
      "Processing 110\n",
      "Processing DiCE\n",
      "Processing XMOAI\n",
      "Processing Alibi\n",
      "Processing 111\n",
      "Processing DiCE\n",
      "Processing XMOAI\n",
      "Processing Alibi\n",
      "Processing 112\n",
      "Processing DiCE\n",
      "Processing XMOAI\n",
      "Processing Alibi\n"
     ]
    },
    {
     "name": "stderr",
     "output_type": "stream",
     "text": [
      "No counterfactual found!\n"
     ]
    },
    {
     "name": "stdout",
     "output_type": "stream",
     "text": [
      "Processing 113\n",
      "Processing DiCE\n",
      "Processing XMOAI\n",
      "Processing Alibi\n"
     ]
    },
    {
     "name": "stderr",
     "output_type": "stream",
     "text": [
      "No counterfactual found!\n"
     ]
    },
    {
     "name": "stdout",
     "output_type": "stream",
     "text": [
      "Processing 114\n",
      "Processing DiCE\n",
      "Processing XMOAI\n",
      "Processing Alibi\n"
     ]
    },
    {
     "name": "stderr",
     "output_type": "stream",
     "text": [
      "No counterfactual found!\n"
     ]
    },
    {
     "name": "stdout",
     "output_type": "stream",
     "text": [
      "Processing 115\n",
      "Processing DiCE\n",
      "Processing XMOAI\n",
      "Processing Alibi\n"
     ]
    },
    {
     "name": "stderr",
     "output_type": "stream",
     "text": [
      "No counterfactual found!\n"
     ]
    },
    {
     "name": "stdout",
     "output_type": "stream",
     "text": [
      "Processing 116\n",
      "Processing DiCE\n",
      "Processing XMOAI\n",
      "Processing Alibi\n",
      "Processing 117\n",
      "Processing DiCE\n",
      "Processing XMOAI\n",
      "Processing Alibi\n"
     ]
    },
    {
     "name": "stderr",
     "output_type": "stream",
     "text": [
      "No counterfactual found!\n"
     ]
    },
    {
     "name": "stdout",
     "output_type": "stream",
     "text": [
      "Processing 118\n",
      "Processing DiCE\n",
      "Processing XMOAI\n",
      "Processing Alibi\n",
      "Processing 119\n",
      "Processing DiCE\n",
      "Processing XMOAI\n",
      "Processing Alibi\n"
     ]
    },
    {
     "name": "stderr",
     "output_type": "stream",
     "text": [
      "No counterfactual found!\n"
     ]
    },
    {
     "name": "stdout",
     "output_type": "stream",
     "text": [
      "Processing 120\n",
      "Processing DiCE\n",
      "Processing XMOAI\n",
      "Processing Alibi\n",
      "Processing 121\n",
      "Processing DiCE\n",
      "Processing XMOAI\n",
      "Processing Alibi\n"
     ]
    },
    {
     "name": "stderr",
     "output_type": "stream",
     "text": [
      "No counterfactual found!\n"
     ]
    },
    {
     "name": "stdout",
     "output_type": "stream",
     "text": [
      "Processing 122\n",
      "Processing DiCE\n",
      "Processing XMOAI\n",
      "Processing Alibi\n"
     ]
    },
    {
     "name": "stderr",
     "output_type": "stream",
     "text": [
      "No counterfactual found!\n"
     ]
    },
    {
     "name": "stdout",
     "output_type": "stream",
     "text": [
      "Processing 123\n",
      "Processing DiCE\n",
      "Processing XMOAI\n",
      "Processing Alibi\n",
      "Processing 124\n",
      "Processing DiCE\n",
      "Processing XMOAI\n",
      "Processing Alibi\n"
     ]
    },
    {
     "name": "stderr",
     "output_type": "stream",
     "text": [
      "No counterfactual found!\n"
     ]
    },
    {
     "name": "stdout",
     "output_type": "stream",
     "text": [
      "Processing 125\n",
      "Processing DiCE\n",
      "Processing XMOAI\n",
      "Processing Alibi\n",
      "Processing 126\n",
      "Processing DiCE\n",
      "Processing XMOAI\n",
      "Processing Alibi\n",
      "Processing 127\n",
      "Processing DiCE\n",
      "Processing XMOAI\n",
      "Processing Alibi\n",
      "Processing 128\n",
      "Processing DiCE\n",
      "Processing XMOAI\n",
      "Processing Alibi\n",
      "Processing 129\n",
      "Processing DiCE\n",
      "Processing XMOAI\n",
      "Processing Alibi\n"
     ]
    },
    {
     "name": "stderr",
     "output_type": "stream",
     "text": [
      "No counterfactual found!\n"
     ]
    },
    {
     "name": "stdout",
     "output_type": "stream",
     "text": [
      "Processing 130\n",
      "Processing DiCE\n",
      "Processing XMOAI\n",
      "Processing Alibi\n"
     ]
    },
    {
     "name": "stderr",
     "output_type": "stream",
     "text": [
      "No counterfactual found!\n"
     ]
    },
    {
     "name": "stdout",
     "output_type": "stream",
     "text": [
      "Processing 131\n",
      "Processing DiCE\n",
      "Processing XMOAI\n",
      "Processing Alibi\n"
     ]
    },
    {
     "name": "stderr",
     "output_type": "stream",
     "text": [
      "No counterfactual found!\n"
     ]
    },
    {
     "name": "stdout",
     "output_type": "stream",
     "text": [
      "Processing 132\n",
      "Processing DiCE\n",
      "Processing XMOAI\n",
      "Processing Alibi\n"
     ]
    },
    {
     "name": "stderr",
     "output_type": "stream",
     "text": [
      "No counterfactual found!\n"
     ]
    },
    {
     "name": "stdout",
     "output_type": "stream",
     "text": [
      "Processing 133\n",
      "Processing DiCE\n",
      "Processing XMOAI\n",
      "Processing Alibi\n"
     ]
    },
    {
     "name": "stderr",
     "output_type": "stream",
     "text": [
      "No counterfactual found!\n"
     ]
    },
    {
     "name": "stdout",
     "output_type": "stream",
     "text": [
      "Processing 134\n",
      "Processing DiCE\n",
      "Processing XMOAI\n",
      "Processing Alibi\n",
      "Processing 135\n",
      "Processing DiCE\n",
      "Processing XMOAI\n",
      "Processing Alibi\n"
     ]
    },
    {
     "name": "stderr",
     "output_type": "stream",
     "text": [
      "No counterfactual found!\n"
     ]
    },
    {
     "name": "stdout",
     "output_type": "stream",
     "text": [
      "Processing 136\n",
      "Processing DiCE\n",
      "Processing XMOAI\n",
      "Processing Alibi\n"
     ]
    },
    {
     "name": "stderr",
     "output_type": "stream",
     "text": [
      "No counterfactual found!\n"
     ]
    },
    {
     "name": "stdout",
     "output_type": "stream",
     "text": [
      "Processing 137\n",
      "Processing DiCE\n",
      "Processing XMOAI\n",
      "Processing Alibi\n",
      "Processing 138\n",
      "Processing DiCE\n",
      "Processing XMOAI\n",
      "Processing Alibi\n"
     ]
    },
    {
     "name": "stderr",
     "output_type": "stream",
     "text": [
      "No counterfactual found!\n"
     ]
    },
    {
     "name": "stdout",
     "output_type": "stream",
     "text": [
      "Processing 139\n",
      "Processing DiCE\n",
      "Processing XMOAI\n",
      "Processing Alibi\n",
      "Processing 140\n",
      "Processing DiCE\n",
      "Processing XMOAI\n",
      "Processing Alibi\n"
     ]
    },
    {
     "name": "stderr",
     "output_type": "stream",
     "text": [
      "No counterfactual found!\n"
     ]
    },
    {
     "name": "stdout",
     "output_type": "stream",
     "text": [
      "Processing 141\n",
      "Processing DiCE\n",
      "Processing XMOAI\n",
      "Processing Alibi\n",
      "Processing 142\n",
      "Processing DiCE\n",
      "Processing XMOAI\n",
      "Processing Alibi\n"
     ]
    },
    {
     "name": "stderr",
     "output_type": "stream",
     "text": [
      "No counterfactual found!\n"
     ]
    },
    {
     "name": "stdout",
     "output_type": "stream",
     "text": [
      "Processing 143\n",
      "Processing DiCE\n",
      "Processing XMOAI\n",
      "Processing Alibi\n",
      "Processing 144\n",
      "Processing DiCE\n",
      "Processing XMOAI\n",
      "Processing Alibi\n"
     ]
    },
    {
     "name": "stderr",
     "output_type": "stream",
     "text": [
      "No counterfactual found!\n"
     ]
    },
    {
     "name": "stdout",
     "output_type": "stream",
     "text": [
      "Processing 145\n",
      "Processing DiCE\n",
      "Processing XMOAI\n",
      "Processing Alibi\n"
     ]
    },
    {
     "name": "stderr",
     "output_type": "stream",
     "text": [
      "No counterfactual found!\n"
     ]
    },
    {
     "name": "stdout",
     "output_type": "stream",
     "text": [
      "Processing 146\n",
      "Processing DiCE\n",
      "Processing XMOAI\n",
      "Processing Alibi\n"
     ]
    },
    {
     "name": "stderr",
     "output_type": "stream",
     "text": [
      "No counterfactual found!\n"
     ]
    },
    {
     "name": "stdout",
     "output_type": "stream",
     "text": [
      "Processing 147\n",
      "Processing DiCE\n",
      "Processing XMOAI\n",
      "Processing Alibi\n"
     ]
    },
    {
     "name": "stderr",
     "output_type": "stream",
     "text": [
      "No counterfactual found!\n"
     ]
    },
    {
     "name": "stdout",
     "output_type": "stream",
     "text": [
      "Processing 148\n",
      "Processing DiCE\n",
      "Processing XMOAI\n",
      "Processing Alibi\n"
     ]
    },
    {
     "name": "stderr",
     "output_type": "stream",
     "text": [
      "No counterfactual found!\n"
     ]
    },
    {
     "name": "stdout",
     "output_type": "stream",
     "text": [
      "Processing 149\n",
      "Processing DiCE\n",
      "Processing XMOAI\n",
      "Processing Alibi\n"
     ]
    },
    {
     "name": "stderr",
     "output_type": "stream",
     "text": [
      "No counterfactual found!\n"
     ]
    }
   ],
   "source": [
    "# individual to be evaluated\n",
    "def calculate_metrics(df, X_current, y_desired, method, categorical_columns_label_encoded,\n",
    "                      categorical_columns_one_hot_encoded):\n",
    "    f1, prediction = get_difference_target_classification_proba(model, df, y_desired, method)\n",
    "    f2 = get_difference_attributes(df.values, X_current.values, ranges,\n",
    "                                   categorical_columns_label_encoded,\n",
    "                                   categorical_columns_one_hot_encoded)\n",
    "    f3 = get_modified_attributes(df, X_current, categorical_columns_one_hot_encoded)\n",
    "    \n",
    "    return f1, f2, f3, prediction\n",
    "\n",
    "ranges = (X_train.max() - X_train.min()).values\n",
    "\n",
    "for index_to_refer in range(number_of_instances):\n",
    "    print(f'Processing {index_to_refer}')\n",
    "    X_current = X_test.iloc[index_to_refer:index_to_refer+1]\n",
    "    y_desired = int(not bool(np.argmax(model.predict_proba(X_current))))\n",
    "\n",
    "    # DiCE CFs\n",
    "    print('Processing DiCE')\n",
    "    try:\n",
    "        df_dice = dice_all_exp.cf_examples_list[index_to_refer].final_cfs_df.copy().drop(target, axis=1)\n",
    "\n",
    "        f1, f2, f3, prediction = calculate_metrics(df_dice, X_current, y_desired, 'predict_proba',\n",
    "                                                   categorical_columns_label_encoded,\n",
    "                                                   categorical_columns_one_hot_encoded)\n",
    "\n",
    "        for col in label_encoders.keys():\n",
    "            df_dice[col] = label_encoders[col].inverse_transform(df_dice[col].astype(int))\n",
    "\n",
    "        df_dice = pd.concat([df_dice, pd.DataFrame(np.vstack([f1, f2, f3]).T, columns=['F1', 'F2', 'F3'])], axis=1)\n",
    "        df_dice['Algorithm'] = 'DiCE'\n",
    "    except:\n",
    "        df_dice = pd.DataFrame()\n",
    "        display('Error in DiCE. Resuming...')\n",
    "    \n",
    "    # XMOAI CFs\n",
    "    print('Processing XMOAI')\n",
    "    try:\n",
    "        front, X_generated, algorithms = generate_counterfactuals_classification_proba(model, X_train,\n",
    "                                  X_current.iloc[0], y_desired, immutable_column_indexes,\n",
    "                                  y_acceptable_range, upper_bounds, lower_bounds,\n",
    "                                  categorical_columns_label_encoded, categorical_columns_one_hot_encoded,\n",
    "                                  num_indexes, n_gen=100, pop_size=100, max_changed_vars=5,\n",
    "                                  verbose=False, select_best=True, seed=0)\n",
    "\n",
    "        df_xmoai = pd.DataFrame(X_generated.copy(), columns=X_test.columns)\n",
    "        for col in label_encoders.keys():\n",
    "            df_xmoai[col] = label_encoders[col].inverse_transform(df_xmoai[col].astype(int))\n",
    "\n",
    "        df_xmoai = pd.concat([df_xmoai, pd.DataFrame(front, columns=['F1', 'F2', 'F3'])], axis=1)\n",
    "        df_xmoai['Algorithm'] = 'Proposal'\n",
    "    except:\n",
    "        df_xmoai = pd.DataFrame()\n",
    "        display('Error in XMOAI. Resuming...')\n",
    "\n",
    "    # Alibi CFs\n",
    "    print('Processing Alibi')\n",
    "    try:\n",
    "        alibi_cf = cf.explain(X_current.values, verbose=False)\n",
    "\n",
    "        if len(alibi_cf['all'])==0:\n",
    "            df_alibi = pd.DataFrame()\n",
    "        else:\n",
    "            df_alibi = [tuple(v) for v in alibi_cf['all'].values() if len(v) > 0]\n",
    "            df_alibi = pd.DataFrame([v[0] for v in np.vstack(df_alibi)])\n",
    "            df_alibi.columns = X_test.columns\n",
    "\n",
    "            if len(df_alibi)==0:\n",
    "                continue\n",
    "\n",
    "            f1, f2, f3, prediction = calculate_metrics(df_alibi, X_current, y_desired, 'predict_proba',\n",
    "                                                       categorical_columns_label_encoded,\n",
    "                                                       categorical_columns_one_hot_encoded)\n",
    "\n",
    "            df_alibi = pd.concat([df_alibi, pd.DataFrame(np.vstack([f1, f2, f3]).T, columns=['F1', 'F2', 'F3'])], axis=1)\n",
    "            df_alibi['Algorithm'] = 'Alibi'\n",
    "    except:\n",
    "        df_alibi = pd.DataFrame()\n",
    "        display('Error in Alibi. Resuming...')\n",
    "\n",
    "    results[X_current.index[0]] = pd.concat([df_dice, df_alibi, df_xmoai]).reset_index(drop=True)"
   ]
  },
  {
   "cell_type": "code",
   "execution_count": 18,
   "id": "52ef296b-6231-4063-8fd8-0b1807413f20",
   "metadata": {},
   "outputs": [],
   "source": [
    "pickle.dump([results, X_test.iloc[:number_of_instances]], open('german_results.pkl', 'wb'))"
   ]
  },
  {
   "cell_type": "code",
   "execution_count": null,
   "id": "6e0e24a3-5eb9-47f8-99c9-26c269a674a3",
   "metadata": {},
   "outputs": [],
   "source": []
  }
 ],
 "metadata": {
  "kernelspec": {
   "display_name": "Python 3 (ipykernel)",
   "language": "python",
   "name": "python3"
  },
  "language_info": {
   "codemirror_mode": {
    "name": "ipython",
    "version": 3
   },
   "file_extension": ".py",
   "mimetype": "text/x-python",
   "name": "python",
   "nbconvert_exporter": "python",
   "pygments_lexer": "ipython3",
   "version": "3.7.0"
  }
 },
 "nbformat": 4,
 "nbformat_minor": 5
}
