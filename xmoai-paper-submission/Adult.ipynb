{
 "cells": [
  {
   "cell_type": "code",
   "execution_count": 1,
   "id": "dc5831f0-f6a7-4b69-bc52-31ea4709fcff",
   "metadata": {},
   "outputs": [],
   "source": [
    "#Dice\n",
    "#COMPAS for bail decision\n",
    "#Adult-Income for income prediction\n",
    "#German-Credit for assessing credit risk\n",
    "#Dataset from Lending Club for loan decisions: https://www.lendingclub.com/info/download-data.action\n",
    "\n",
    "#Alibi\n",
    "\n",
    "#AIX360"
   ]
  },
  {
   "cell_type": "markdown",
   "id": "dbcf5804-2e73-473c-bb8f-c2aa56abef00",
   "metadata": {},
   "source": [
    "## Importing libraries"
   ]
  },
  {
   "cell_type": "code",
   "execution_count": 2,
   "id": "8b59403b-3434-4326-a340-e588c508f950",
   "metadata": {},
   "outputs": [],
   "source": [
    "import time\n",
    "import pickle\n",
    "import dice_ml\n",
    "import numpy as np\n",
    "import pandas as pd\n",
    "import seaborn as sns\n",
    "import plotly.express as px\n",
    "import matplotlib.pyplot as plt\n",
    "import tensorflow.compat.v1 as tf\n",
    "\n",
    "from sklearn.impute import *\n",
    "from sklearn.ensemble import *\n",
    "from sklearn.pipeline import Pipeline\n",
    "from sklearn.compose import ColumnTransformer\n",
    "from sklearn.model_selection import train_test_split\n",
    "from sklearn.metrics import confusion_matrix, roc_auc_score\n",
    "from sklearn.compose import make_column_selector as selector\n",
    "from sklearn.preprocessing import OneHotEncoder, MaxAbsScaler, LabelEncoder\n",
    "\n",
    "from imblearn.over_sampling import SMOTENC\n",
    "\n",
    "from xmoai.problems.objectives import *\n",
    "from xmoai.problems.restrictions import *\n",
    "from xmoai.setup.configure import generate_counterfactuals_classification_proba\n",
    "\n",
    "from alibi.explainers import *\n",
    "\n",
    "pd.set_option('display.max_columns', None)"
   ]
  },
  {
   "cell_type": "raw",
   "id": "a44370ef-b3af-4429-89be-bac962c10d9d",
   "metadata": {},
   "source": [
    "iso_forest = IsolationForest(random_state=0).fit(X_train)\n",
    "pd.concat([pd.DataFrame(iso_forest.predict(X_test)),\n",
    "           pd.DataFrame(iso_forest.score_samples(X_test)*-1)], axis=1)"
   ]
  },
  {
   "cell_type": "code",
   "execution_count": 3,
   "id": "f97121b5-3d30-4cab-9977-9373498d9162",
   "metadata": {},
   "outputs": [
    {
     "name": "stdout",
     "output_type": "stream",
     "text": [
      "WARNING:tensorflow:From C:\\Users\\wmont\\AppData\\Local\\Temp/ipykernel_3296/2406458911.py:3: The name tf.keras.backend.get_session is deprecated. Please use tf.compat.v1.keras.backend.get_session instead.\n",
      "\n"
     ]
    },
    {
     "data": {
      "text/plain": [
       "[_DeviceAttributes(/job:localhost/replica:0/task:0/device:CPU:0, CPU, 268435456, -8977809851569685367),\n",
       " _DeviceAttributes(/job:localhost/replica:0/task:0/device:GPU:0, GPU, 9396617216, 8186646063474593478)]"
      ]
     },
     "execution_count": 3,
     "metadata": {},
     "output_type": "execute_result"
    }
   ],
   "source": [
    "tf.compat.v1.disable_eager_execution()\n",
    "tf.keras.backend.clear_session()\n",
    "tf.compat.v1.keras.backend.get_session().list_devices()"
   ]
  },
  {
   "cell_type": "markdown",
   "id": "7a193cac-8546-4aa8-9fe2-28726ac0828b",
   "metadata": {},
   "source": [
    "# Adult Dataset"
   ]
  },
  {
   "cell_type": "code",
   "execution_count": 23,
   "id": "f3d28b1a-dd3f-4d72-b97d-9a9ab72b7d28",
   "metadata": {},
   "outputs": [
    {
     "data": {
      "text/html": [
       "<div>\n",
       "<style scoped>\n",
       "    .dataframe tbody tr th:only-of-type {\n",
       "        vertical-align: middle;\n",
       "    }\n",
       "\n",
       "    .dataframe tbody tr th {\n",
       "        vertical-align: top;\n",
       "    }\n",
       "\n",
       "    .dataframe thead th {\n",
       "        text-align: right;\n",
       "    }\n",
       "</style>\n",
       "<table border=\"1\" class=\"dataframe\">\n",
       "  <thead>\n",
       "    <tr style=\"text-align: right;\">\n",
       "      <th></th>\n",
       "      <th>age</th>\n",
       "      <th>workclass</th>\n",
       "      <th>fnlwgt</th>\n",
       "      <th>education</th>\n",
       "      <th>marital.status</th>\n",
       "      <th>occupation</th>\n",
       "      <th>relationship</th>\n",
       "      <th>race</th>\n",
       "      <th>sex</th>\n",
       "      <th>capital.gain</th>\n",
       "      <th>capital.loss</th>\n",
       "      <th>hours.per.week</th>\n",
       "      <th>native.country</th>\n",
       "      <th>income</th>\n",
       "    </tr>\n",
       "  </thead>\n",
       "  <tbody>\n",
       "    <tr>\n",
       "      <th>1</th>\n",
       "      <td>82</td>\n",
       "      <td>Private</td>\n",
       "      <td>132870</td>\n",
       "      <td>HS-grad</td>\n",
       "      <td>Widowed</td>\n",
       "      <td>Exec-managerial</td>\n",
       "      <td>Not-in-family</td>\n",
       "      <td>White</td>\n",
       "      <td>Female</td>\n",
       "      <td>0</td>\n",
       "      <td>4356</td>\n",
       "      <td>18</td>\n",
       "      <td>United-States</td>\n",
       "      <td>0</td>\n",
       "    </tr>\n",
       "    <tr>\n",
       "      <th>3</th>\n",
       "      <td>54</td>\n",
       "      <td>Private</td>\n",
       "      <td>140359</td>\n",
       "      <td>7th-8th</td>\n",
       "      <td>Divorced</td>\n",
       "      <td>Machine-op-inspct</td>\n",
       "      <td>Unmarried</td>\n",
       "      <td>White</td>\n",
       "      <td>Female</td>\n",
       "      <td>0</td>\n",
       "      <td>3900</td>\n",
       "      <td>40</td>\n",
       "      <td>United-States</td>\n",
       "      <td>0</td>\n",
       "    </tr>\n",
       "    <tr>\n",
       "      <th>4</th>\n",
       "      <td>41</td>\n",
       "      <td>Private</td>\n",
       "      <td>264663</td>\n",
       "      <td>Some-college</td>\n",
       "      <td>Separated</td>\n",
       "      <td>Prof-specialty</td>\n",
       "      <td>Own-child</td>\n",
       "      <td>White</td>\n",
       "      <td>Female</td>\n",
       "      <td>0</td>\n",
       "      <td>3900</td>\n",
       "      <td>40</td>\n",
       "      <td>United-States</td>\n",
       "      <td>0</td>\n",
       "    </tr>\n",
       "    <tr>\n",
       "      <th>5</th>\n",
       "      <td>34</td>\n",
       "      <td>Private</td>\n",
       "      <td>216864</td>\n",
       "      <td>HS-grad</td>\n",
       "      <td>Divorced</td>\n",
       "      <td>Other-service</td>\n",
       "      <td>Unmarried</td>\n",
       "      <td>White</td>\n",
       "      <td>Female</td>\n",
       "      <td>0</td>\n",
       "      <td>3770</td>\n",
       "      <td>45</td>\n",
       "      <td>United-States</td>\n",
       "      <td>0</td>\n",
       "    </tr>\n",
       "    <tr>\n",
       "      <th>6</th>\n",
       "      <td>38</td>\n",
       "      <td>Private</td>\n",
       "      <td>150601</td>\n",
       "      <td>10th</td>\n",
       "      <td>Separated</td>\n",
       "      <td>Adm-clerical</td>\n",
       "      <td>Unmarried</td>\n",
       "      <td>White</td>\n",
       "      <td>Male</td>\n",
       "      <td>0</td>\n",
       "      <td>3770</td>\n",
       "      <td>40</td>\n",
       "      <td>United-States</td>\n",
       "      <td>0</td>\n",
       "    </tr>\n",
       "    <tr>\n",
       "      <th>...</th>\n",
       "      <td>...</td>\n",
       "      <td>...</td>\n",
       "      <td>...</td>\n",
       "      <td>...</td>\n",
       "      <td>...</td>\n",
       "      <td>...</td>\n",
       "      <td>...</td>\n",
       "      <td>...</td>\n",
       "      <td>...</td>\n",
       "      <td>...</td>\n",
       "      <td>...</td>\n",
       "      <td>...</td>\n",
       "      <td>...</td>\n",
       "      <td>...</td>\n",
       "    </tr>\n",
       "    <tr>\n",
       "      <th>32556</th>\n",
       "      <td>22</td>\n",
       "      <td>Private</td>\n",
       "      <td>310152</td>\n",
       "      <td>Some-college</td>\n",
       "      <td>Never-married</td>\n",
       "      <td>Protective-serv</td>\n",
       "      <td>Not-in-family</td>\n",
       "      <td>White</td>\n",
       "      <td>Male</td>\n",
       "      <td>0</td>\n",
       "      <td>0</td>\n",
       "      <td>40</td>\n",
       "      <td>United-States</td>\n",
       "      <td>0</td>\n",
       "    </tr>\n",
       "    <tr>\n",
       "      <th>32557</th>\n",
       "      <td>27</td>\n",
       "      <td>Private</td>\n",
       "      <td>257302</td>\n",
       "      <td>Assoc-acdm</td>\n",
       "      <td>Married-civ-spouse</td>\n",
       "      <td>Tech-support</td>\n",
       "      <td>Wife</td>\n",
       "      <td>White</td>\n",
       "      <td>Female</td>\n",
       "      <td>0</td>\n",
       "      <td>0</td>\n",
       "      <td>38</td>\n",
       "      <td>United-States</td>\n",
       "      <td>0</td>\n",
       "    </tr>\n",
       "    <tr>\n",
       "      <th>32558</th>\n",
       "      <td>40</td>\n",
       "      <td>Private</td>\n",
       "      <td>154374</td>\n",
       "      <td>HS-grad</td>\n",
       "      <td>Married-civ-spouse</td>\n",
       "      <td>Machine-op-inspct</td>\n",
       "      <td>Husband</td>\n",
       "      <td>White</td>\n",
       "      <td>Male</td>\n",
       "      <td>0</td>\n",
       "      <td>0</td>\n",
       "      <td>40</td>\n",
       "      <td>United-States</td>\n",
       "      <td>1</td>\n",
       "    </tr>\n",
       "    <tr>\n",
       "      <th>32559</th>\n",
       "      <td>58</td>\n",
       "      <td>Private</td>\n",
       "      <td>151910</td>\n",
       "      <td>HS-grad</td>\n",
       "      <td>Widowed</td>\n",
       "      <td>Adm-clerical</td>\n",
       "      <td>Unmarried</td>\n",
       "      <td>White</td>\n",
       "      <td>Female</td>\n",
       "      <td>0</td>\n",
       "      <td>0</td>\n",
       "      <td>40</td>\n",
       "      <td>United-States</td>\n",
       "      <td>0</td>\n",
       "    </tr>\n",
       "    <tr>\n",
       "      <th>32560</th>\n",
       "      <td>22</td>\n",
       "      <td>Private</td>\n",
       "      <td>201490</td>\n",
       "      <td>HS-grad</td>\n",
       "      <td>Never-married</td>\n",
       "      <td>Adm-clerical</td>\n",
       "      <td>Own-child</td>\n",
       "      <td>White</td>\n",
       "      <td>Male</td>\n",
       "      <td>0</td>\n",
       "      <td>0</td>\n",
       "      <td>20</td>\n",
       "      <td>United-States</td>\n",
       "      <td>0</td>\n",
       "    </tr>\n",
       "  </tbody>\n",
       "</table>\n",
       "<p>30162 rows × 14 columns</p>\n",
       "</div>"
      ],
      "text/plain": [
       "       age workclass  fnlwgt     education      marital.status  \\\n",
       "1       82   Private  132870       HS-grad             Widowed   \n",
       "3       54   Private  140359       7th-8th            Divorced   \n",
       "4       41   Private  264663  Some-college           Separated   \n",
       "5       34   Private  216864       HS-grad            Divorced   \n",
       "6       38   Private  150601          10th           Separated   \n",
       "...    ...       ...     ...           ...                 ...   \n",
       "32556   22   Private  310152  Some-college       Never-married   \n",
       "32557   27   Private  257302    Assoc-acdm  Married-civ-spouse   \n",
       "32558   40   Private  154374       HS-grad  Married-civ-spouse   \n",
       "32559   58   Private  151910       HS-grad             Widowed   \n",
       "32560   22   Private  201490       HS-grad       Never-married   \n",
       "\n",
       "              occupation   relationship   race     sex  capital.gain  \\\n",
       "1        Exec-managerial  Not-in-family  White  Female             0   \n",
       "3      Machine-op-inspct      Unmarried  White  Female             0   \n",
       "4         Prof-specialty      Own-child  White  Female             0   \n",
       "5          Other-service      Unmarried  White  Female             0   \n",
       "6           Adm-clerical      Unmarried  White    Male             0   \n",
       "...                  ...            ...    ...     ...           ...   \n",
       "32556    Protective-serv  Not-in-family  White    Male             0   \n",
       "32557       Tech-support           Wife  White  Female             0   \n",
       "32558  Machine-op-inspct        Husband  White    Male             0   \n",
       "32559       Adm-clerical      Unmarried  White  Female             0   \n",
       "32560       Adm-clerical      Own-child  White    Male             0   \n",
       "\n",
       "       capital.loss  hours.per.week native.country  income  \n",
       "1              4356              18  United-States       0  \n",
       "3              3900              40  United-States       0  \n",
       "4              3900              40  United-States       0  \n",
       "5              3770              45  United-States       0  \n",
       "6              3770              40  United-States       0  \n",
       "...             ...             ...            ...     ...  \n",
       "32556             0              40  United-States       0  \n",
       "32557             0              38  United-States       0  \n",
       "32558             0              40  United-States       1  \n",
       "32559             0              40  United-States       0  \n",
       "32560             0              20  United-States       0  \n",
       "\n",
       "[30162 rows x 14 columns]"
      ]
     },
     "execution_count": 23,
     "metadata": {},
     "output_type": "execute_result"
    }
   ],
   "source": [
    "df_adult = pd.read_csv('../FairMood/datasets/adult_nan.csv').dropna()\n",
    "df_adult"
   ]
  },
  {
   "cell_type": "markdown",
   "id": "7a9e97bf-6faa-4c4c-b136-769bf95a66d0",
   "metadata": {},
   "source": [
    "## Defining required columns"
   ]
  },
  {
   "cell_type": "code",
   "execution_count": 5,
   "id": "59514989-9f92-4f62-a1bc-2e4f297d4921",
   "metadata": {},
   "outputs": [],
   "source": [
    "num_indexes = []\n",
    "cat_indexes = []\n",
    "\n",
    "num_columns = ['age', 'fnlwgt', 'capital.gain', 'capital.loss', 'hours.per.week']\n",
    "cat_columns = ['workclass', 'education', 'marital.status', 'occupation', 'relationship', 'race', 'sex', 'native.country']\n",
    "integer_columns = num_columns\n",
    "target = 'income'\n",
    "\n",
    "for i in range(df_adult.shape[1]):\n",
    "    col = df_adult.columns[i]\n",
    "    if col in num_columns:\n",
    "        num_indexes.append(i)\n",
    "    elif col in cat_columns:\n",
    "        cat_indexes.append(i)"
   ]
  },
  {
   "cell_type": "markdown",
   "id": "629da856-3be3-4c92-94b3-30694151925a",
   "metadata": {},
   "source": [
    "### Converting string-encoded categories to integers"
   ]
  },
  {
   "cell_type": "code",
   "execution_count": 6,
   "id": "67c3399b-c964-4e23-bf08-8b21c85a9cf5",
   "metadata": {},
   "outputs": [],
   "source": [
    "label_encoders = {}\n",
    "\n",
    "for col in cat_columns:\n",
    "    encoder = LabelEncoder().fit(df_adult[col])\n",
    "    label_encoders[col] = encoder\n",
    "    df_adult[col] = encoder.transform(df_adult[col])"
   ]
  },
  {
   "cell_type": "markdown",
   "id": "1072d84a-1c9b-4b17-a7ac-6dd1cb4f221d",
   "metadata": {},
   "source": [
    "## Training"
   ]
  },
  {
   "cell_type": "code",
   "execution_count": 7,
   "id": "3c180841-cc67-4ffa-a290-230da3700592",
   "metadata": {},
   "outputs": [],
   "source": [
    "X_train, X_test, y_train, y_test = train_test_split(df_adult.drop(target, axis=1), df_adult[target], test_size=0.7, random_state=0)\n",
    "X_train, y_train = SMOTENC(categorical_features=np.isin(df_adult.columns, cat_columns)).fit_resample(X_train, y_train)"
   ]
  },
  {
   "cell_type": "code",
   "execution_count": 8,
   "id": "b31b0b11-957b-41b9-98c3-f1279dcfb683",
   "metadata": {
    "tags": []
   },
   "outputs": [],
   "source": [
    "one_hot_encode = False\n",
    "\n",
    "# defining both numeric and categorical transformers\n",
    "numeric_transformer = Pipeline(\n",
    "    steps=[(\"imputer\", KNNImputer()), (\"scaler\", MaxAbsScaler())]\n",
    ")\n",
    "\n",
    "# setting-up the preprocessing steps\n",
    "if one_hot_encode:\n",
    "    categorical_transformer = OneHotEncoder(handle_unknown='ignore', sparse=False)\n",
    "    preprocessor = ColumnTransformer(\n",
    "        transformers=[\n",
    "            (\"num\", numeric_transformer, num_indexes),\n",
    "            (\"cat\", categorical_transformer, cat_indexes),\n",
    "        ]\n",
    "    )\n",
    "else:\n",
    "    preprocessor = ColumnTransformer(\n",
    "        transformers=[\n",
    "            (\"num\", numeric_transformer, num_indexes + cat_indexes),\n",
    "        ]\n",
    "    )\n",
    "    \n",
    "# defining the model pipeline and training\n",
    "model = Pipeline(\n",
    "    steps=[(\"preprocessor\", preprocessor),\n",
    "           (\"classifier\", RandomForestClassifier(n_jobs=-1))]\n",
    ").fit(X_train, y_train)"
   ]
  },
  {
   "cell_type": "markdown",
   "id": "3807188f-ca1c-44f2-baac-83e951b3df56",
   "metadata": {},
   "source": [
    "## Preparing counterfactual generation with DiCE"
   ]
  },
  {
   "cell_type": "code",
   "execution_count": 9,
   "id": "ad7758a8-1200-402b-965b-b92347e76792",
   "metadata": {},
   "outputs": [],
   "source": [
    "continuous_precision = {}\n",
    "for col in num_columns:\n",
    "    continuous_precision[col] = 0\n",
    "\n",
    "d = dice_ml.Data(dataframe=pd.concat([X_train, y_train], axis=1),\n",
    "                 continuous_features=num_columns,\n",
    "                 continuous_features_precision=continuous_precision,\n",
    "                 outcome_name=target)\n",
    "m = dice_ml.Model(model=model, backend='sklearn')\n",
    "exp = dice_ml.Dice(d,m)"
   ]
  },
  {
   "cell_type": "markdown",
   "id": "fd27e496-b3de-44e7-9b87-43aa9813eff8",
   "metadata": {},
   "source": [
    "## Preparing counterfactual generation with XMOAI"
   ]
  },
  {
   "cell_type": "code",
   "execution_count": 10,
   "id": "9a8db960-ee39-4b4e-bffe-97cc90a036bf",
   "metadata": {},
   "outputs": [
    {
     "data": {
      "text/plain": [
       "[]"
      ]
     },
     "metadata": {},
     "output_type": "display_data"
    },
    {
     "data": {
      "text/plain": [
       "{1: array([0, 1, 2, 3, 4, 5, 6]),\n",
       " 3: array([ 0,  1,  2,  3,  4,  5,  6,  7,  8,  9, 10, 11, 12, 13, 14, 15]),\n",
       " 4: array([0, 1, 2, 3, 4, 5, 6]),\n",
       " 5: array([ 0,  1,  2,  3,  4,  5,  6,  7,  8,  9, 10, 11, 12, 13]),\n",
       " 6: array([0, 1, 2, 3, 4, 5]),\n",
       " 7: array([0, 1, 2, 3, 4]),\n",
       " 8: array([0, 1]),\n",
       " 12: array([ 0,  1,  2,  3,  4,  5,  6,  7,  8,  9, 10, 11, 12, 13, 15, 16, 17,\n",
       "        18, 19, 20, 21, 22, 23, 24, 25, 26, 27, 28, 29, 30, 31, 32, 33, 34,\n",
       "        35, 36, 37, 38, 39, 40])}"
      ]
     },
     "metadata": {},
     "output_type": "display_data"
    }
   ],
   "source": [
    "columns = X_train.columns\n",
    "categorical_columns_one_hot_encoded = []\n",
    "categorical_columns_label_encoded = {}\n",
    "\n",
    "if one_hot_encode and type(model)==Pipeline:\n",
    "    for cat_col in cat_columns:\n",
    "        columns_in_cat = [col for col in columns if col.startswith(f'{cat_col}_')]\n",
    "        columns_in_cat = np.argwhere(np.isin(columns, columns_in_cat)).flatten()\n",
    "        \n",
    "        if len(columns_in_cat) > 0:\n",
    "            categorical_columns_one_hot_encoded.append(columns_in_cat)\n",
    "else:\n",
    "    for i in range(len(X_train.columns)):\n",
    "        if X_train.columns[i] in cat_columns:\n",
    "            categorical_columns_label_encoded[i] = np.sort(X_train[X_train.columns[i]].unique())\n",
    "        \n",
    "display(categorical_columns_one_hot_encoded)\n",
    "display(categorical_columns_label_encoded)"
   ]
  },
  {
   "cell_type": "code",
   "execution_count": 11,
   "id": "c3d25b6a-bcf8-448a-b295-bf59faac5c69",
   "metadata": {},
   "outputs": [],
   "source": [
    "# generating counterfactuals\n",
    "immutable_column_indexes = [] # let's say we can't change the last column\n",
    "y_acceptable_range = [0.51, 1.0] # we will only accept counterfactuals with the predicted prob. in this range\n",
    "\n",
    "upper_bounds = np.array(X_train.max(axis=0)*1.0) # this is the maximum allowed number per column\n",
    "lower_bounds = np.array(X_train.min(axis=0)*1.0) # this is the minimum allowed number per column.\n",
    "# you may change the bounds depending on the needs specific to the individual being trained."
   ]
  },
  {
   "cell_type": "markdown",
   "id": "94628685-96cd-4c4b-88e2-764eb3f2e334",
   "metadata": {},
   "source": [
    "## Generating counterfactuals"
   ]
  },
  {
   "cell_type": "code",
   "execution_count": 12,
   "id": "f15a41f7-5807-4adb-b1cb-30fa5cdd6596",
   "metadata": {},
   "outputs": [
    {
     "data": {
      "text/plain": [
       "CounterfactualProto(meta={\n",
       "  'name': 'CounterfactualProto',\n",
       "  'type': ['blackbox', 'tensorflow', 'keras'],\n",
       "  'explanations': ['local'],\n",
       "  'params': {\n",
       "              'kappa': 0.0,\n",
       "              'beta': 0.1,\n",
       "              'feature_range': (array([[1.7000e+01, 0.0000e+00, 1.3769e+04, 0.0000e+00, 0.0000e+00,\n",
       "        0.0000e+00, 0.0000e+00, 0.0000e+00, 0.0000e+00, 0.0000e+00,\n",
       "        0.0000e+00, 1.0000e+00, 0.0000e+00]], dtype=float32), array([[9.000000e+01, 6.000000e+00, 1.455435e+06, 1.500000e+01,\n",
       "        6.000000e+00, 1.300000e+01, 5.000000e+00, 4.000000e+00,\n",
       "        1.000000e+00, 9.999900e+04, 2.824000e+03, 9.900000e+01,\n",
       "        4.000000e+01]], dtype=float32)),\n",
       "              'gamma': 0.0,\n",
       "              'theta': 0.0,\n",
       "              'cat_vars': {1: 7, 3: 16, 4: 7, 5: 14, 6: 6, 7: 5, 8: 2, 12: 40},\n",
       "              'ohe': False,\n",
       "              'use_kdtree': False,\n",
       "              'learning_rate_init': 0.01,\n",
       "              'max_iterations': 200,\n",
       "              'c_init': 10.0,\n",
       "              'c_steps': 3,\n",
       "              'eps': (0.001, 0.001),\n",
       "              'clip': (-1000.0, 1000.0),\n",
       "              'update_num_grad': 1,\n",
       "              'write_dir': None,\n",
       "              'shape': (1, 13),\n",
       "              'is_model': False,\n",
       "              'is_ae': False,\n",
       "              'is_enc': False,\n",
       "              'enc_or_kdtree': False,\n",
       "              'is_cat': True,\n",
       "              'trustscore_kwargs': None,\n",
       "              'd_type': 'abdm',\n",
       "              'w': None,\n",
       "              'disc_perc': (25, 50, 75),\n",
       "              'standardize_cat_vars': False,\n",
       "              'smooth': 1.0,\n",
       "              'center': True,\n",
       "              'update_feature_range': True}\n",
       "            ,\n",
       "  'version': '0.6.2'}\n",
       ")"
      ]
     },
     "execution_count": 12,
     "metadata": {},
     "output_type": "execute_result"
    }
   ],
   "source": [
    "cat_vars_ord = {}\n",
    "for i in categorical_columns_label_encoded.keys():\n",
    "    cat_vars_ord[i] = len(np.unique(X_train.values[:, i]))\n",
    "cat_vars_ord\n",
    "\n",
    "cf = CounterfactualProto(sess=tf.compat.v1.keras.backend.get_session(),\n",
    "                         predict=lambda x: model.predict_proba(x),\n",
    "                         shape=(1,) + X_test.shape[1:],\n",
    "                         cat_vars=cat_vars_ord,\n",
    "                         feature_range=(np.array([X_train.min().values]).astype(np.float32), np.array([X_train.max().values]).astype(np.float32)),\n",
    "                         max_iterations=200,\n",
    "                         c_steps=3\n",
    "                        )\n",
    "cf.fit(X_train.values)"
   ]
  },
  {
   "cell_type": "code",
   "execution_count": 13,
   "id": "41339463-77e9-48a6-97ff-36d37a0e2865",
   "metadata": {},
   "outputs": [
    {
     "name": "stderr",
     "output_type": "stream",
     "text": [
      "  1%|▊                                                                                                                      | 1/150 [00:13<34:44, 13.99s/it]"
     ]
    },
    {
     "name": "stdout",
     "output_type": "stream",
     "text": [
      "Only 45 (required 100)  Diverse Counterfactuals found for the given configuration, perhaps try with different parameters... ; total time taken: 00 min 13 sec\n"
     ]
    },
    {
     "name": "stderr",
     "output_type": "stream",
     "text": [
      " 42%|███████████████████████████████████████████████▉                                                                  | 63/150 [1:43:37<2:08:46, 88.81s/it]"
     ]
    },
    {
     "name": "stdout",
     "output_type": "stream",
     "text": [
      "Only 57 (required 100)  Diverse Counterfactuals found for the given configuration, perhaps try with different parameters... ; total time taken: 00 min 16 sec\n"
     ]
    },
    {
     "name": "stderr",
     "output_type": "stream",
     "text": [
      " 56%|████████████████████████████████████████████████████████████████▉                                                   | 84/150 [1:51:56<24:01, 21.84s/it]"
     ]
    },
    {
     "name": "stdout",
     "output_type": "stream",
     "text": [
      "Only 63 (required 100)  Diverse Counterfactuals found for the given configuration, perhaps try with different parameters... ; total time taken: 00 min 16 sec\n"
     ]
    },
    {
     "name": "stderr",
     "output_type": "stream",
     "text": [
      " 57%|██████████████████████████████████████████████████████████████████▌                                                 | 86/150 [1:52:40<23:05, 21.65s/it]"
     ]
    },
    {
     "name": "stdout",
     "output_type": "stream",
     "text": [
      "Only 70 (required 100)  Diverse Counterfactuals found for the given configuration, perhaps try with different parameters... ; total time taken: 00 min 19 sec\n"
     ]
    },
    {
     "name": "stderr",
     "output_type": "stream",
     "text": [
      " 62%|███████████████████████████████████████████████████████████████████████▉                                            | 93/150 [1:58:01<38:14, 40.25s/it]"
     ]
    },
    {
     "name": "stdout",
     "output_type": "stream",
     "text": [
      "Only 97 (required 100)  Diverse Counterfactuals found for the given configuration, perhaps try with different parameters... ; total time taken: 00 min 27 sec\n"
     ]
    },
    {
     "name": "stderr",
     "output_type": "stream",
     "text": [
      " 85%|██████████████████████████████████████████████████████████████████████████████████████████████▊                 | 127/150 [2:56:35<3:16:53, 513.61s/it]"
     ]
    },
    {
     "name": "stdout",
     "output_type": "stream",
     "text": [
      "Only 96 (required 100)  Diverse Counterfactuals found for the given configuration, perhaps try with different parameters... ; total time taken: 27 min 35 sec\n"
     ]
    },
    {
     "name": "stderr",
     "output_type": "stream",
     "text": [
      "100%|███████████████████████████████████████████████████████████████████████████████████████████████████████████████████| 150/150 [3:17:31<00:00, 79.01s/it]\n"
     ]
    }
   ],
   "source": [
    "number_of_instances = 150\n",
    "dice_all_exp = exp.generate_counterfactuals(X_test.iloc[:number_of_instances], total_CFs=100, desired_class=\"opposite\")"
   ]
  },
  {
   "cell_type": "code",
   "execution_count": null,
   "id": "1671f609-fb54-491d-892b-29894f1f06db",
   "metadata": {},
   "outputs": [],
   "source": [
    "results = {}"
   ]
  },
  {
   "cell_type": "code",
   "execution_count": 25,
   "id": "243f01bb-6ef3-4e12-b715-0dc76fad848f",
   "metadata": {},
   "outputs": [
    {
     "data": {
      "text/plain": [
       "(98, 10, 12, 30)"
      ]
     },
     "metadata": {},
     "output_type": "display_data"
    },
    {
     "data": {
      "text/plain": [
       "Int64Index([2086, 3095, 24220, 25539, 14862], dtype='int64')"
      ]
     },
     "metadata": {},
     "output_type": "display_data"
    },
    {
     "data": {
      "text/plain": [
       "Int64Index([29045, 27504, 9264, 21565, 28767], dtype='int64')"
      ]
     },
     "metadata": {},
     "output_type": "display_data"
    }
   ],
   "source": [
    "tn, fp, fn, tp = confusion_matrix(y_test.iloc[:number_of_instances], model.predict(X_test.iloc[:number_of_instances])).ravel()\n",
    "display((tn, fp, fn, tp))\n",
    "\n",
    "display(y_test[(y_test==1) & (y_test==model.predict(X_test))].index[:5])\n",
    "display(y_test[(y_test==0) & (y_test==model.predict(X_test))].index[:5])"
   ]
  },
  {
   "cell_type": "code",
   "execution_count": 16,
   "id": "a9b7789c-b9d1-464b-8f48-5de1be402c52",
   "metadata": {},
   "outputs": [
    {
     "name": "stdout",
     "output_type": "stream",
     "text": [
      "Processing 0\n",
      "Processing DiCE\n",
      "Processing XMOAI\n",
      "Processing Alibi\n"
     ]
    },
    {
     "name": "stderr",
     "output_type": "stream",
     "text": [
      "No counterfactual found!\n"
     ]
    },
    {
     "name": "stdout",
     "output_type": "stream",
     "text": [
      "Processing 1\n",
      "Processing DiCE\n",
      "Processing XMOAI\n",
      "Processing Alibi\n",
      "Processing 2\n",
      "Processing DiCE\n",
      "Processing XMOAI\n",
      "Processing Alibi\n"
     ]
    },
    {
     "name": "stderr",
     "output_type": "stream",
     "text": [
      "No counterfactual found!\n"
     ]
    },
    {
     "name": "stdout",
     "output_type": "stream",
     "text": [
      "Processing 3\n",
      "Processing DiCE\n",
      "Processing XMOAI\n",
      "Processing Alibi\n"
     ]
    },
    {
     "name": "stderr",
     "output_type": "stream",
     "text": [
      "No counterfactual found!\n"
     ]
    },
    {
     "name": "stdout",
     "output_type": "stream",
     "text": [
      "Processing 4\n",
      "Processing DiCE\n",
      "Processing XMOAI\n",
      "Processing Alibi\n"
     ]
    },
    {
     "name": "stderr",
     "output_type": "stream",
     "text": [
      "No counterfactual found!\n"
     ]
    },
    {
     "name": "stdout",
     "output_type": "stream",
     "text": [
      "Processing 5\n",
      "Processing DiCE\n",
      "Processing XMOAI\n",
      "Processing Alibi\n",
      "Processing 6\n",
      "Processing DiCE\n",
      "Processing XMOAI\n",
      "Processing Alibi\n"
     ]
    },
    {
     "name": "stderr",
     "output_type": "stream",
     "text": [
      "No counterfactual found!\n"
     ]
    },
    {
     "name": "stdout",
     "output_type": "stream",
     "text": [
      "Processing 7\n",
      "Processing DiCE\n",
      "Processing XMOAI\n",
      "Processing Alibi\n"
     ]
    },
    {
     "name": "stderr",
     "output_type": "stream",
     "text": [
      "No counterfactual found!\n"
     ]
    },
    {
     "name": "stdout",
     "output_type": "stream",
     "text": [
      "Processing 8\n",
      "Processing DiCE\n",
      "Processing XMOAI\n",
      "Processing Alibi\n"
     ]
    },
    {
     "name": "stderr",
     "output_type": "stream",
     "text": [
      "No counterfactual found!\n"
     ]
    },
    {
     "name": "stdout",
     "output_type": "stream",
     "text": [
      "Processing 9\n",
      "Processing DiCE\n",
      "Processing XMOAI\n",
      "Processing Alibi\n"
     ]
    },
    {
     "name": "stderr",
     "output_type": "stream",
     "text": [
      "No counterfactual found!\n"
     ]
    },
    {
     "name": "stdout",
     "output_type": "stream",
     "text": [
      "Processing 10\n",
      "Processing DiCE\n",
      "Processing XMOAI\n",
      "Processing Alibi\n"
     ]
    },
    {
     "name": "stderr",
     "output_type": "stream",
     "text": [
      "No counterfactual found!\n"
     ]
    },
    {
     "name": "stdout",
     "output_type": "stream",
     "text": [
      "Processing 11\n",
      "Processing DiCE\n",
      "Processing XMOAI\n",
      "Processing Alibi\n"
     ]
    },
    {
     "name": "stderr",
     "output_type": "stream",
     "text": [
      "No counterfactual found!\n"
     ]
    },
    {
     "name": "stdout",
     "output_type": "stream",
     "text": [
      "Processing 12\n",
      "Processing DiCE\n",
      "Processing XMOAI\n",
      "Processing Alibi\n",
      "Processing 13\n",
      "Processing DiCE\n",
      "Processing XMOAI\n",
      "Processing Alibi\n",
      "Processing 14\n",
      "Processing DiCE\n",
      "Processing XMOAI\n",
      "Processing Alibi\n",
      "Processing 15\n",
      "Processing DiCE\n",
      "Processing XMOAI\n",
      "Processing Alibi\n"
     ]
    },
    {
     "name": "stderr",
     "output_type": "stream",
     "text": [
      "No counterfactual found!\n"
     ]
    },
    {
     "name": "stdout",
     "output_type": "stream",
     "text": [
      "Processing 16\n",
      "Processing DiCE\n",
      "Processing XMOAI\n",
      "Processing Alibi\n"
     ]
    },
    {
     "name": "stderr",
     "output_type": "stream",
     "text": [
      "No counterfactual found!\n"
     ]
    },
    {
     "name": "stdout",
     "output_type": "stream",
     "text": [
      "Processing 17\n",
      "Processing DiCE\n",
      "Processing XMOAI\n",
      "Processing Alibi\n",
      "Processing 18\n",
      "Processing DiCE\n",
      "Processing XMOAI\n",
      "Processing Alibi\n",
      "Processing 19\n",
      "Processing DiCE\n",
      "Processing XMOAI\n",
      "Processing Alibi\n"
     ]
    },
    {
     "name": "stderr",
     "output_type": "stream",
     "text": [
      "No counterfactual found!\n"
     ]
    },
    {
     "name": "stdout",
     "output_type": "stream",
     "text": [
      "Processing 20\n",
      "Processing DiCE\n",
      "Processing XMOAI\n",
      "Processing Alibi\n"
     ]
    },
    {
     "name": "stderr",
     "output_type": "stream",
     "text": [
      "No counterfactual found!\n"
     ]
    },
    {
     "name": "stdout",
     "output_type": "stream",
     "text": [
      "Processing 21\n",
      "Processing DiCE\n",
      "Processing XMOAI\n",
      "Processing Alibi\n"
     ]
    },
    {
     "name": "stderr",
     "output_type": "stream",
     "text": [
      "No counterfactual found!\n"
     ]
    },
    {
     "name": "stdout",
     "output_type": "stream",
     "text": [
      "Processing 22\n",
      "Processing DiCE\n",
      "Processing XMOAI\n",
      "Processing Alibi\n",
      "Processing 23\n",
      "Processing DiCE\n",
      "Processing XMOAI\n",
      "Processing Alibi\n"
     ]
    },
    {
     "name": "stderr",
     "output_type": "stream",
     "text": [
      "No counterfactual found!\n"
     ]
    },
    {
     "name": "stdout",
     "output_type": "stream",
     "text": [
      "Processing 24\n",
      "Processing DiCE\n",
      "Processing XMOAI\n",
      "Processing Alibi\n",
      "Processing 25\n",
      "Processing DiCE\n",
      "Processing XMOAI\n",
      "Processing Alibi\n"
     ]
    },
    {
     "name": "stderr",
     "output_type": "stream",
     "text": [
      "No counterfactual found!\n"
     ]
    },
    {
     "name": "stdout",
     "output_type": "stream",
     "text": [
      "Processing 26\n",
      "Processing DiCE\n",
      "Processing XMOAI\n",
      "Processing Alibi\n",
      "Processing 27\n",
      "Processing DiCE\n",
      "Processing XMOAI\n",
      "Processing Alibi\n"
     ]
    },
    {
     "name": "stderr",
     "output_type": "stream",
     "text": [
      "No counterfactual found!\n"
     ]
    },
    {
     "name": "stdout",
     "output_type": "stream",
     "text": [
      "Processing 28\n",
      "Processing DiCE\n",
      "Processing XMOAI\n",
      "Processing Alibi\n"
     ]
    },
    {
     "name": "stderr",
     "output_type": "stream",
     "text": [
      "No counterfactual found!\n"
     ]
    },
    {
     "name": "stdout",
     "output_type": "stream",
     "text": [
      "Processing 29\n",
      "Processing DiCE\n",
      "Processing XMOAI\n",
      "Processing Alibi\n"
     ]
    },
    {
     "name": "stderr",
     "output_type": "stream",
     "text": [
      "No counterfactual found!\n"
     ]
    },
    {
     "name": "stdout",
     "output_type": "stream",
     "text": [
      "Processing 30\n",
      "Processing DiCE\n",
      "Processing XMOAI\n",
      "Processing Alibi\n",
      "Processing 31\n",
      "Processing DiCE\n",
      "Processing XMOAI\n",
      "Processing Alibi\n",
      "Processing 32\n",
      "Processing DiCE\n",
      "Processing XMOAI\n",
      "Processing Alibi\n",
      "Processing 33\n",
      "Processing DiCE\n",
      "Processing XMOAI\n",
      "Processing Alibi\n",
      "Processing 34\n",
      "Processing DiCE\n",
      "Processing XMOAI\n",
      "Processing Alibi\n",
      "Processing 35\n",
      "Processing DiCE\n",
      "Processing XMOAI\n",
      "Processing Alibi\n"
     ]
    },
    {
     "name": "stderr",
     "output_type": "stream",
     "text": [
      "No counterfactual found!\n"
     ]
    },
    {
     "name": "stdout",
     "output_type": "stream",
     "text": [
      "Processing 36\n",
      "Processing DiCE\n",
      "Processing XMOAI\n",
      "Processing Alibi\n"
     ]
    },
    {
     "name": "stderr",
     "output_type": "stream",
     "text": [
      "No counterfactual found!\n"
     ]
    },
    {
     "name": "stdout",
     "output_type": "stream",
     "text": [
      "Processing 37\n",
      "Processing DiCE\n",
      "Processing XMOAI\n",
      "Processing Alibi\n"
     ]
    },
    {
     "name": "stderr",
     "output_type": "stream",
     "text": [
      "No counterfactual found!\n"
     ]
    },
    {
     "name": "stdout",
     "output_type": "stream",
     "text": [
      "Processing 38\n",
      "Processing DiCE\n",
      "Processing XMOAI\n",
      "Processing Alibi\n",
      "Processing 39\n",
      "Processing DiCE\n",
      "Processing XMOAI\n",
      "Processing Alibi\n"
     ]
    },
    {
     "name": "stderr",
     "output_type": "stream",
     "text": [
      "No counterfactual found!\n"
     ]
    },
    {
     "name": "stdout",
     "output_type": "stream",
     "text": [
      "Processing 40\n",
      "Processing DiCE\n",
      "Processing XMOAI\n",
      "Processing Alibi\n"
     ]
    },
    {
     "name": "stderr",
     "output_type": "stream",
     "text": [
      "No counterfactual found!\n"
     ]
    },
    {
     "name": "stdout",
     "output_type": "stream",
     "text": [
      "Processing 41\n",
      "Processing DiCE\n",
      "Processing XMOAI\n",
      "Processing Alibi\n"
     ]
    },
    {
     "name": "stderr",
     "output_type": "stream",
     "text": [
      "No counterfactual found!\n"
     ]
    },
    {
     "name": "stdout",
     "output_type": "stream",
     "text": [
      "Processing 42\n",
      "Processing DiCE\n",
      "Processing XMOAI\n",
      "Processing Alibi\n"
     ]
    },
    {
     "name": "stderr",
     "output_type": "stream",
     "text": [
      "No counterfactual found!\n"
     ]
    },
    {
     "name": "stdout",
     "output_type": "stream",
     "text": [
      "Processing 43\n",
      "Processing DiCE\n",
      "Processing XMOAI\n",
      "Processing Alibi\n",
      "Processing 44\n",
      "Processing DiCE\n",
      "Processing XMOAI\n",
      "Processing Alibi\n"
     ]
    },
    {
     "name": "stderr",
     "output_type": "stream",
     "text": [
      "No counterfactual found!\n"
     ]
    },
    {
     "name": "stdout",
     "output_type": "stream",
     "text": [
      "Processing 45\n",
      "Processing DiCE\n",
      "Processing XMOAI\n",
      "Processing Alibi\n",
      "Processing 46\n",
      "Processing DiCE\n",
      "Processing XMOAI\n",
      "Processing Alibi\n",
      "Processing 47\n",
      "Processing DiCE\n",
      "Processing XMOAI\n",
      "Processing Alibi\n"
     ]
    },
    {
     "name": "stderr",
     "output_type": "stream",
     "text": [
      "No counterfactual found!\n"
     ]
    },
    {
     "name": "stdout",
     "output_type": "stream",
     "text": [
      "Processing 48\n",
      "Processing DiCE\n",
      "Processing XMOAI\n",
      "Processing Alibi\n"
     ]
    },
    {
     "name": "stderr",
     "output_type": "stream",
     "text": [
      "No counterfactual found!\n"
     ]
    },
    {
     "name": "stdout",
     "output_type": "stream",
     "text": [
      "Processing 49\n",
      "Processing DiCE\n",
      "Processing XMOAI\n",
      "Processing Alibi\n"
     ]
    },
    {
     "name": "stderr",
     "output_type": "stream",
     "text": [
      "No counterfactual found!\n"
     ]
    },
    {
     "name": "stdout",
     "output_type": "stream",
     "text": [
      "Processing 50\n",
      "Processing DiCE\n",
      "Processing XMOAI\n",
      "Processing Alibi\n"
     ]
    },
    {
     "name": "stderr",
     "output_type": "stream",
     "text": [
      "No counterfactual found!\n"
     ]
    },
    {
     "name": "stdout",
     "output_type": "stream",
     "text": [
      "Processing 51\n",
      "Processing DiCE\n",
      "Processing XMOAI\n",
      "Processing Alibi\n"
     ]
    },
    {
     "name": "stderr",
     "output_type": "stream",
     "text": [
      "No counterfactual found!\n"
     ]
    },
    {
     "name": "stdout",
     "output_type": "stream",
     "text": [
      "Processing 52\n",
      "Processing DiCE\n",
      "Processing XMOAI\n",
      "Processing Alibi\n"
     ]
    },
    {
     "name": "stderr",
     "output_type": "stream",
     "text": [
      "No counterfactual found!\n"
     ]
    },
    {
     "name": "stdout",
     "output_type": "stream",
     "text": [
      "Processing 53\n",
      "Processing DiCE\n",
      "Processing XMOAI\n",
      "Processing Alibi\n"
     ]
    },
    {
     "name": "stderr",
     "output_type": "stream",
     "text": [
      "No counterfactual found!\n"
     ]
    },
    {
     "name": "stdout",
     "output_type": "stream",
     "text": [
      "Processing 54\n",
      "Processing DiCE\n",
      "Processing XMOAI\n",
      "Processing Alibi\n",
      "Processing 55\n",
      "Processing DiCE\n",
      "Processing XMOAI\n",
      "Processing Alibi\n"
     ]
    },
    {
     "name": "stderr",
     "output_type": "stream",
     "text": [
      "No counterfactual found!\n"
     ]
    },
    {
     "name": "stdout",
     "output_type": "stream",
     "text": [
      "Processing 56\n",
      "Processing DiCE\n",
      "Processing XMOAI\n",
      "Processing Alibi\n"
     ]
    },
    {
     "name": "stderr",
     "output_type": "stream",
     "text": [
      "No counterfactual found!\n"
     ]
    },
    {
     "name": "stdout",
     "output_type": "stream",
     "text": [
      "Processing 57\n",
      "Processing DiCE\n",
      "Processing XMOAI\n",
      "Processing Alibi\n"
     ]
    },
    {
     "name": "stderr",
     "output_type": "stream",
     "text": [
      "No counterfactual found!\n"
     ]
    },
    {
     "name": "stdout",
     "output_type": "stream",
     "text": [
      "Processing 58\n",
      "Processing DiCE\n",
      "Processing XMOAI\n",
      "Processing Alibi\n"
     ]
    },
    {
     "name": "stderr",
     "output_type": "stream",
     "text": [
      "No counterfactual found!\n"
     ]
    },
    {
     "name": "stdout",
     "output_type": "stream",
     "text": [
      "Processing 59\n",
      "Processing DiCE\n",
      "Processing XMOAI\n",
      "Processing Alibi\n"
     ]
    },
    {
     "name": "stderr",
     "output_type": "stream",
     "text": [
      "No counterfactual found!\n"
     ]
    },
    {
     "name": "stdout",
     "output_type": "stream",
     "text": [
      "Processing 60\n",
      "Processing DiCE\n",
      "Processing XMOAI\n",
      "Processing Alibi\n"
     ]
    },
    {
     "name": "stderr",
     "output_type": "stream",
     "text": [
      "No counterfactual found!\n"
     ]
    },
    {
     "name": "stdout",
     "output_type": "stream",
     "text": [
      "Processing 61\n",
      "Processing DiCE\n",
      "Processing XMOAI\n",
      "Processing Alibi\n"
     ]
    },
    {
     "name": "stderr",
     "output_type": "stream",
     "text": [
      "No counterfactual found!\n"
     ]
    },
    {
     "name": "stdout",
     "output_type": "stream",
     "text": [
      "Processing 62\n",
      "Processing DiCE\n",
      "Processing XMOAI\n",
      "Processing Alibi\n"
     ]
    },
    {
     "name": "stderr",
     "output_type": "stream",
     "text": [
      "No counterfactual found!\n"
     ]
    },
    {
     "name": "stdout",
     "output_type": "stream",
     "text": [
      "Processing 63\n",
      "Processing DiCE\n",
      "Processing XMOAI\n",
      "Processing Alibi\n",
      "Processing 64\n",
      "Processing DiCE\n",
      "Processing XMOAI\n",
      "Processing Alibi\n"
     ]
    },
    {
     "name": "stderr",
     "output_type": "stream",
     "text": [
      "No counterfactual found!\n"
     ]
    },
    {
     "name": "stdout",
     "output_type": "stream",
     "text": [
      "Processing 65\n",
      "Processing DiCE\n",
      "Processing XMOAI\n",
      "Processing Alibi\n"
     ]
    },
    {
     "name": "stderr",
     "output_type": "stream",
     "text": [
      "No counterfactual found!\n"
     ]
    },
    {
     "name": "stdout",
     "output_type": "stream",
     "text": [
      "Processing 66\n",
      "Processing DiCE\n",
      "Processing XMOAI\n",
      "Processing Alibi\n"
     ]
    },
    {
     "name": "stderr",
     "output_type": "stream",
     "text": [
      "No counterfactual found!\n"
     ]
    },
    {
     "name": "stdout",
     "output_type": "stream",
     "text": [
      "Processing 67\n",
      "Processing DiCE\n",
      "Processing XMOAI\n",
      "Processing Alibi\n"
     ]
    },
    {
     "name": "stderr",
     "output_type": "stream",
     "text": [
      "No counterfactual found!\n"
     ]
    },
    {
     "name": "stdout",
     "output_type": "stream",
     "text": [
      "Processing 68\n",
      "Processing DiCE\n",
      "Processing XMOAI\n",
      "Processing Alibi\n",
      "Processing 69\n",
      "Processing DiCE\n",
      "Processing XMOAI\n",
      "Processing Alibi\n"
     ]
    },
    {
     "name": "stderr",
     "output_type": "stream",
     "text": [
      "No counterfactual found!\n"
     ]
    },
    {
     "name": "stdout",
     "output_type": "stream",
     "text": [
      "Processing 70\n",
      "Processing DiCE\n",
      "Processing XMOAI\n",
      "Processing Alibi\n"
     ]
    },
    {
     "name": "stderr",
     "output_type": "stream",
     "text": [
      "No counterfactual found!\n"
     ]
    },
    {
     "name": "stdout",
     "output_type": "stream",
     "text": [
      "Processing 71\n",
      "Processing DiCE\n",
      "Processing XMOAI\n",
      "Processing Alibi\n"
     ]
    },
    {
     "name": "stderr",
     "output_type": "stream",
     "text": [
      "No counterfactual found!\n"
     ]
    },
    {
     "name": "stdout",
     "output_type": "stream",
     "text": [
      "Processing 72\n",
      "Processing DiCE\n",
      "Processing XMOAI\n",
      "Processing Alibi\n",
      "Processing 73\n",
      "Processing DiCE\n",
      "Processing XMOAI\n",
      "Processing Alibi\n",
      "Processing 74\n",
      "Processing DiCE\n",
      "Processing XMOAI\n",
      "Processing Alibi\n"
     ]
    },
    {
     "name": "stderr",
     "output_type": "stream",
     "text": [
      "No counterfactual found!\n"
     ]
    },
    {
     "name": "stdout",
     "output_type": "stream",
     "text": [
      "Processing 75\n",
      "Processing DiCE\n",
      "Processing XMOAI\n",
      "Processing Alibi\n"
     ]
    },
    {
     "name": "stderr",
     "output_type": "stream",
     "text": [
      "No counterfactual found!\n"
     ]
    },
    {
     "name": "stdout",
     "output_type": "stream",
     "text": [
      "Processing 76\n",
      "Processing DiCE\n",
      "Processing XMOAI\n",
      "Processing Alibi\n"
     ]
    },
    {
     "name": "stderr",
     "output_type": "stream",
     "text": [
      "No counterfactual found!\n"
     ]
    },
    {
     "name": "stdout",
     "output_type": "stream",
     "text": [
      "Processing 77\n",
      "Processing DiCE\n",
      "Processing XMOAI\n",
      "Processing Alibi\n",
      "Processing 78\n",
      "Processing DiCE\n",
      "Processing XMOAI\n",
      "Processing Alibi\n"
     ]
    },
    {
     "name": "stderr",
     "output_type": "stream",
     "text": [
      "No counterfactual found!\n"
     ]
    },
    {
     "name": "stdout",
     "output_type": "stream",
     "text": [
      "Processing 79\n",
      "Processing DiCE\n",
      "Processing XMOAI\n",
      "Processing Alibi\n"
     ]
    },
    {
     "name": "stderr",
     "output_type": "stream",
     "text": [
      "No counterfactual found!\n"
     ]
    },
    {
     "name": "stdout",
     "output_type": "stream",
     "text": [
      "Processing 80\n",
      "Processing DiCE\n",
      "Processing XMOAI\n",
      "Processing Alibi\n"
     ]
    },
    {
     "name": "stderr",
     "output_type": "stream",
     "text": [
      "No counterfactual found!\n"
     ]
    },
    {
     "name": "stdout",
     "output_type": "stream",
     "text": [
      "Processing 81\n",
      "Processing DiCE\n",
      "Processing XMOAI\n",
      "Processing Alibi\n"
     ]
    },
    {
     "name": "stderr",
     "output_type": "stream",
     "text": [
      "No counterfactual found!\n"
     ]
    },
    {
     "name": "stdout",
     "output_type": "stream",
     "text": [
      "Processing 82\n",
      "Processing DiCE\n",
      "Processing XMOAI\n",
      "Processing Alibi\n",
      "Processing 83\n",
      "Processing DiCE\n",
      "Processing XMOAI\n",
      "Processing Alibi\n"
     ]
    },
    {
     "name": "stderr",
     "output_type": "stream",
     "text": [
      "No counterfactual found!\n"
     ]
    },
    {
     "name": "stdout",
     "output_type": "stream",
     "text": [
      "Processing 84\n",
      "Processing DiCE\n",
      "Processing XMOAI\n",
      "Processing Alibi\n",
      "Processing 85\n",
      "Processing DiCE\n",
      "Processing XMOAI\n",
      "Processing Alibi\n"
     ]
    },
    {
     "name": "stderr",
     "output_type": "stream",
     "text": [
      "No counterfactual found!\n"
     ]
    },
    {
     "name": "stdout",
     "output_type": "stream",
     "text": [
      "Processing 86\n",
      "Processing DiCE\n",
      "Processing XMOAI\n",
      "Processing Alibi\n"
     ]
    },
    {
     "name": "stderr",
     "output_type": "stream",
     "text": [
      "No counterfactual found!\n"
     ]
    },
    {
     "name": "stdout",
     "output_type": "stream",
     "text": [
      "Processing 87\n",
      "Processing DiCE\n",
      "Processing XMOAI\n",
      "Processing Alibi\n",
      "Processing 88\n",
      "Processing DiCE\n",
      "Processing XMOAI\n",
      "Processing Alibi\n",
      "Processing 89\n",
      "Processing DiCE\n",
      "Processing XMOAI\n",
      "Processing Alibi\n",
      "Processing 90\n",
      "Processing DiCE\n",
      "Processing XMOAI\n",
      "Processing Alibi\n"
     ]
    },
    {
     "name": "stderr",
     "output_type": "stream",
     "text": [
      "No counterfactual found!\n"
     ]
    },
    {
     "name": "stdout",
     "output_type": "stream",
     "text": [
      "Processing 91\n",
      "Processing DiCE\n",
      "Processing XMOAI\n",
      "Processing Alibi\n"
     ]
    },
    {
     "name": "stderr",
     "output_type": "stream",
     "text": [
      "No counterfactual found!\n"
     ]
    },
    {
     "name": "stdout",
     "output_type": "stream",
     "text": [
      "Processing 92\n",
      "Processing DiCE\n",
      "Processing XMOAI\n",
      "Processing Alibi\n"
     ]
    },
    {
     "name": "stderr",
     "output_type": "stream",
     "text": [
      "No counterfactual found!\n"
     ]
    },
    {
     "name": "stdout",
     "output_type": "stream",
     "text": [
      "Processing 93\n",
      "Processing DiCE\n",
      "Processing XMOAI\n",
      "Processing Alibi\n",
      "Processing 94\n",
      "Processing DiCE\n",
      "Processing XMOAI\n",
      "Processing Alibi\n"
     ]
    },
    {
     "name": "stderr",
     "output_type": "stream",
     "text": [
      "No counterfactual found!\n"
     ]
    },
    {
     "name": "stdout",
     "output_type": "stream",
     "text": [
      "Processing 95\n",
      "Processing DiCE\n",
      "Processing XMOAI\n",
      "Processing Alibi\n",
      "Processing 96\n",
      "Processing DiCE\n",
      "Processing XMOAI\n",
      "Processing Alibi\n"
     ]
    },
    {
     "name": "stderr",
     "output_type": "stream",
     "text": [
      "No counterfactual found!\n"
     ]
    },
    {
     "name": "stdout",
     "output_type": "stream",
     "text": [
      "Processing 97\n",
      "Processing DiCE\n",
      "Processing XMOAI\n",
      "Processing Alibi\n"
     ]
    },
    {
     "name": "stderr",
     "output_type": "stream",
     "text": [
      "No counterfactual found!\n"
     ]
    },
    {
     "name": "stdout",
     "output_type": "stream",
     "text": [
      "Processing 98\n",
      "Processing DiCE\n",
      "Processing XMOAI\n",
      "Processing Alibi\n"
     ]
    },
    {
     "name": "stderr",
     "output_type": "stream",
     "text": [
      "No counterfactual found!\n"
     ]
    },
    {
     "name": "stdout",
     "output_type": "stream",
     "text": [
      "Processing 99\n",
      "Processing DiCE\n",
      "Processing XMOAI\n",
      "Processing Alibi\n",
      "Processing 100\n",
      "Processing DiCE\n",
      "Processing XMOAI\n",
      "Processing Alibi\n"
     ]
    },
    {
     "name": "stderr",
     "output_type": "stream",
     "text": [
      "No counterfactual found!\n"
     ]
    },
    {
     "name": "stdout",
     "output_type": "stream",
     "text": [
      "Processing 101\n",
      "Processing DiCE\n",
      "Processing XMOAI\n",
      "Processing Alibi\n"
     ]
    },
    {
     "name": "stderr",
     "output_type": "stream",
     "text": [
      "No counterfactual found!\n"
     ]
    },
    {
     "name": "stdout",
     "output_type": "stream",
     "text": [
      "Processing 102\n",
      "Processing DiCE\n",
      "Processing XMOAI\n",
      "Processing Alibi\n",
      "Processing 103\n",
      "Processing DiCE\n",
      "Processing XMOAI\n",
      "Processing Alibi\n",
      "Processing 104\n",
      "Processing DiCE\n",
      "Processing XMOAI\n",
      "Processing Alibi\n",
      "Processing 105\n",
      "Processing DiCE\n",
      "Processing XMOAI\n",
      "Processing Alibi\n",
      "Processing 106\n",
      "Processing DiCE\n",
      "Processing XMOAI\n",
      "Processing Alibi\n"
     ]
    },
    {
     "name": "stderr",
     "output_type": "stream",
     "text": [
      "No counterfactual found!\n"
     ]
    },
    {
     "name": "stdout",
     "output_type": "stream",
     "text": [
      "Processing 107\n",
      "Processing DiCE\n",
      "Processing XMOAI\n",
      "Processing Alibi\n",
      "Processing 108\n",
      "Processing DiCE\n",
      "Processing XMOAI\n",
      "Processing Alibi\n"
     ]
    },
    {
     "name": "stderr",
     "output_type": "stream",
     "text": [
      "No counterfactual found!\n"
     ]
    },
    {
     "name": "stdout",
     "output_type": "stream",
     "text": [
      "Processing 109\n",
      "Processing DiCE\n",
      "Processing XMOAI\n",
      "Processing Alibi\n",
      "Processing 110\n",
      "Processing DiCE\n",
      "Processing XMOAI\n",
      "Processing Alibi\n"
     ]
    },
    {
     "name": "stderr",
     "output_type": "stream",
     "text": [
      "No counterfactual found!\n"
     ]
    },
    {
     "name": "stdout",
     "output_type": "stream",
     "text": [
      "Processing 111\n",
      "Processing DiCE\n",
      "Processing XMOAI\n",
      "Processing Alibi\n",
      "Processing 112\n",
      "Processing DiCE\n",
      "Processing XMOAI\n",
      "Processing Alibi\n"
     ]
    },
    {
     "name": "stderr",
     "output_type": "stream",
     "text": [
      "No counterfactual found!\n"
     ]
    },
    {
     "name": "stdout",
     "output_type": "stream",
     "text": [
      "Processing 113\n",
      "Processing DiCE\n",
      "Processing XMOAI\n",
      "Processing Alibi\n"
     ]
    },
    {
     "name": "stderr",
     "output_type": "stream",
     "text": [
      "No counterfactual found!\n"
     ]
    },
    {
     "name": "stdout",
     "output_type": "stream",
     "text": [
      "Processing 114\n",
      "Processing DiCE\n",
      "Processing XMOAI\n",
      "Processing Alibi\n"
     ]
    },
    {
     "name": "stderr",
     "output_type": "stream",
     "text": [
      "No counterfactual found!\n"
     ]
    },
    {
     "name": "stdout",
     "output_type": "stream",
     "text": [
      "Processing 115\n",
      "Processing DiCE\n",
      "Processing XMOAI\n",
      "Processing Alibi\n",
      "Processing 116\n",
      "Processing DiCE\n",
      "Processing XMOAI\n",
      "Processing Alibi\n"
     ]
    },
    {
     "name": "stderr",
     "output_type": "stream",
     "text": [
      "No counterfactual found!\n"
     ]
    },
    {
     "name": "stdout",
     "output_type": "stream",
     "text": [
      "Processing 117\n",
      "Processing DiCE\n",
      "Processing XMOAI\n",
      "Processing Alibi\n"
     ]
    },
    {
     "name": "stderr",
     "output_type": "stream",
     "text": [
      "No counterfactual found!\n"
     ]
    },
    {
     "name": "stdout",
     "output_type": "stream",
     "text": [
      "Processing 118\n",
      "Processing DiCE\n",
      "Processing XMOAI\n",
      "Processing Alibi\n"
     ]
    },
    {
     "name": "stderr",
     "output_type": "stream",
     "text": [
      "No counterfactual found!\n"
     ]
    },
    {
     "name": "stdout",
     "output_type": "stream",
     "text": [
      "Processing 119\n",
      "Processing DiCE\n",
      "Processing XMOAI\n",
      "Processing Alibi\n"
     ]
    },
    {
     "name": "stderr",
     "output_type": "stream",
     "text": [
      "No counterfactual found!\n"
     ]
    },
    {
     "name": "stdout",
     "output_type": "stream",
     "text": [
      "Processing 120\n",
      "Processing DiCE\n",
      "Processing XMOAI\n",
      "Processing Alibi\n"
     ]
    },
    {
     "name": "stderr",
     "output_type": "stream",
     "text": [
      "No counterfactual found!\n"
     ]
    },
    {
     "name": "stdout",
     "output_type": "stream",
     "text": [
      "Processing 121\n",
      "Processing DiCE\n",
      "Processing XMOAI\n",
      "Processing Alibi\n"
     ]
    },
    {
     "name": "stderr",
     "output_type": "stream",
     "text": [
      "No counterfactual found!\n"
     ]
    },
    {
     "name": "stdout",
     "output_type": "stream",
     "text": [
      "Processing 122\n",
      "Processing DiCE\n",
      "Processing XMOAI\n",
      "Processing Alibi\n"
     ]
    },
    {
     "name": "stderr",
     "output_type": "stream",
     "text": [
      "No counterfactual found!\n"
     ]
    },
    {
     "name": "stdout",
     "output_type": "stream",
     "text": [
      "Processing 123\n",
      "Processing DiCE\n",
      "Processing XMOAI\n",
      "Processing Alibi\n",
      "Processing 124\n",
      "Processing DiCE\n",
      "Processing XMOAI\n",
      "Processing Alibi\n"
     ]
    },
    {
     "name": "stderr",
     "output_type": "stream",
     "text": [
      "No counterfactual found!\n"
     ]
    },
    {
     "name": "stdout",
     "output_type": "stream",
     "text": [
      "Processing 125\n",
      "Processing DiCE\n",
      "Processing XMOAI\n",
      "Processing Alibi\n",
      "Processing 126\n",
      "Processing DiCE\n",
      "Processing XMOAI\n",
      "Processing Alibi\n"
     ]
    },
    {
     "name": "stderr",
     "output_type": "stream",
     "text": [
      "No counterfactual found!\n"
     ]
    },
    {
     "name": "stdout",
     "output_type": "stream",
     "text": [
      "Processing 127\n",
      "Processing DiCE\n",
      "Processing XMOAI\n",
      "Processing Alibi\n"
     ]
    },
    {
     "name": "stderr",
     "output_type": "stream",
     "text": [
      "No counterfactual found!\n"
     ]
    },
    {
     "name": "stdout",
     "output_type": "stream",
     "text": [
      "Processing 128\n",
      "Processing DiCE\n",
      "Processing XMOAI\n",
      "Processing Alibi\n"
     ]
    },
    {
     "name": "stderr",
     "output_type": "stream",
     "text": [
      "No counterfactual found!\n"
     ]
    },
    {
     "name": "stdout",
     "output_type": "stream",
     "text": [
      "Processing 129\n",
      "Processing DiCE\n",
      "Processing XMOAI\n",
      "Processing Alibi\n"
     ]
    },
    {
     "name": "stderr",
     "output_type": "stream",
     "text": [
      "No counterfactual found!\n"
     ]
    },
    {
     "name": "stdout",
     "output_type": "stream",
     "text": [
      "Processing 130\n",
      "Processing DiCE\n",
      "Processing XMOAI\n",
      "Processing Alibi\n"
     ]
    },
    {
     "name": "stderr",
     "output_type": "stream",
     "text": [
      "No counterfactual found!\n"
     ]
    },
    {
     "name": "stdout",
     "output_type": "stream",
     "text": [
      "Processing 131\n",
      "Processing DiCE\n",
      "Processing XMOAI\n",
      "Processing Alibi\n"
     ]
    },
    {
     "name": "stderr",
     "output_type": "stream",
     "text": [
      "No counterfactual found!\n"
     ]
    },
    {
     "name": "stdout",
     "output_type": "stream",
     "text": [
      "Processing 132\n",
      "Processing DiCE\n",
      "Processing XMOAI\n",
      "Processing Alibi\n"
     ]
    },
    {
     "name": "stderr",
     "output_type": "stream",
     "text": [
      "No counterfactual found!\n"
     ]
    },
    {
     "name": "stdout",
     "output_type": "stream",
     "text": [
      "Processing 133\n",
      "Processing DiCE\n",
      "Processing XMOAI\n",
      "Processing Alibi\n",
      "Processing 134\n",
      "Processing DiCE\n",
      "Processing XMOAI\n",
      "Processing Alibi\n",
      "Processing 135\n",
      "Processing DiCE\n",
      "Processing XMOAI\n",
      "Processing Alibi\n",
      "Processing 136\n",
      "Processing DiCE\n",
      "Processing XMOAI\n",
      "Processing Alibi\n",
      "Processing 137\n",
      "Processing DiCE\n",
      "Processing XMOAI\n",
      "Processing Alibi\n"
     ]
    },
    {
     "name": "stderr",
     "output_type": "stream",
     "text": [
      "No counterfactual found!\n"
     ]
    },
    {
     "name": "stdout",
     "output_type": "stream",
     "text": [
      "Processing 138\n",
      "Processing DiCE\n",
      "Processing XMOAI\n",
      "Processing Alibi\n"
     ]
    },
    {
     "name": "stderr",
     "output_type": "stream",
     "text": [
      "No counterfactual found!\n"
     ]
    },
    {
     "name": "stdout",
     "output_type": "stream",
     "text": [
      "Processing 139\n",
      "Processing DiCE\n",
      "Processing XMOAI\n",
      "Processing Alibi\n"
     ]
    },
    {
     "name": "stderr",
     "output_type": "stream",
     "text": [
      "No counterfactual found!\n"
     ]
    },
    {
     "name": "stdout",
     "output_type": "stream",
     "text": [
      "Processing 140\n",
      "Processing DiCE\n",
      "Processing XMOAI\n",
      "Processing Alibi\n"
     ]
    },
    {
     "name": "stderr",
     "output_type": "stream",
     "text": [
      "No counterfactual found!\n"
     ]
    },
    {
     "name": "stdout",
     "output_type": "stream",
     "text": [
      "Processing 141\n",
      "Processing DiCE\n",
      "Processing XMOAI\n",
      "Processing Alibi\n",
      "Processing 142\n",
      "Processing DiCE\n",
      "Processing XMOAI\n",
      "Processing Alibi\n",
      "Processing 143\n",
      "Processing DiCE\n",
      "Processing XMOAI\n",
      "Processing Alibi\n"
     ]
    },
    {
     "name": "stderr",
     "output_type": "stream",
     "text": [
      "No counterfactual found!\n"
     ]
    },
    {
     "name": "stdout",
     "output_type": "stream",
     "text": [
      "Processing 144\n",
      "Processing DiCE\n",
      "Processing XMOAI\n",
      "Processing Alibi\n",
      "Processing 145\n",
      "Processing DiCE\n",
      "Processing XMOAI\n",
      "Processing Alibi\n"
     ]
    },
    {
     "name": "stderr",
     "output_type": "stream",
     "text": [
      "No counterfactual found!\n"
     ]
    },
    {
     "name": "stdout",
     "output_type": "stream",
     "text": [
      "Processing 146\n",
      "Processing DiCE\n",
      "Processing XMOAI\n",
      "Processing Alibi\n"
     ]
    },
    {
     "name": "stderr",
     "output_type": "stream",
     "text": [
      "No counterfactual found!\n"
     ]
    },
    {
     "name": "stdout",
     "output_type": "stream",
     "text": [
      "Processing 147\n",
      "Processing DiCE\n",
      "Processing XMOAI\n",
      "Processing Alibi\n",
      "Processing 148\n",
      "Processing DiCE\n",
      "Processing XMOAI\n",
      "Processing Alibi\n"
     ]
    },
    {
     "name": "stderr",
     "output_type": "stream",
     "text": [
      "No counterfactual found!\n"
     ]
    },
    {
     "name": "stdout",
     "output_type": "stream",
     "text": [
      "Processing 149\n",
      "Processing DiCE\n",
      "Processing XMOAI\n",
      "Processing Alibi\n"
     ]
    }
   ],
   "source": [
    "# individual to be evaluated\n",
    "def calculate_metrics(df, X_current, y_desired, method, categorical_columns_label_encoded,\n",
    "                      categorical_columns_one_hot_encoded):\n",
    "    f1, prediction = get_difference_target_classification_proba(model, df, y_desired, method)\n",
    "    f2 = get_difference_attributes(df.values, X_current.values, ranges,\n",
    "                                   categorical_columns_label_encoded,\n",
    "                                   categorical_columns_one_hot_encoded)\n",
    "    f3 = get_modified_attributes(df, X_current, categorical_columns_one_hot_encoded)\n",
    "    \n",
    "    return f1, f2, f3, prediction\n",
    "\n",
    "ranges = (X_train.max() - X_train.min()).values\n",
    "\n",
    "for index_to_refer in range(number_of_instances):\n",
    "    print(f'Processing {index_to_refer}')\n",
    "    X_current = X_test.iloc[index_to_refer:index_to_refer+1]\n",
    "    y_desired = int(not bool(np.argmax(model.predict_proba(X_current))))\n",
    "\n",
    "    # DiCE CFs\n",
    "    print('Processing DiCE')\n",
    "    try:\n",
    "        df_dice = dice_all_exp.cf_examples_list[index_to_refer].final_cfs_df.copy().drop(target, axis=1)\n",
    "\n",
    "        f1, f2, f3, prediction = calculate_metrics(df_dice, X_current, y_desired, 'predict_proba',\n",
    "                                                   categorical_columns_label_encoded,\n",
    "                                                   categorical_columns_one_hot_encoded)\n",
    "\n",
    "        for col in label_encoders.keys():\n",
    "            df_dice[col] = label_encoders[col].inverse_transform(df_dice[col].astype(int))\n",
    "\n",
    "        df_dice = pd.concat([df_dice, pd.DataFrame(np.vstack([f1, f2, f3]).T, columns=['F1', 'F2', 'F3'])], axis=1)\n",
    "        df_dice['Algorithm'] = 'DiCE'\n",
    "    except:\n",
    "        df_dice = pd.DataFrame()\n",
    "        display('Error in DiCE. Resuming...')\n",
    "    \n",
    "    # XMOAI CFs\n",
    "    print('Processing XMOAI')\n",
    "    try:\n",
    "        front, X_generated, algorithms = generate_counterfactuals_classification_proba(model, X_train,\n",
    "                                  X_current.iloc[0], y_desired, immutable_column_indexes,\n",
    "                                  y_acceptable_range, upper_bounds, lower_bounds,\n",
    "                                  categorical_columns_label_encoded, categorical_columns_one_hot_encoded,\n",
    "                                  num_indexes, n_gen=100, pop_size=100, max_changed_vars=5,\n",
    "                                  verbose=False, select_best=True, seed=0)\n",
    "\n",
    "        df_xmoai = pd.DataFrame(X_generated.copy(), columns=X_test.columns)\n",
    "        for col in label_encoders.keys():\n",
    "            df_xmoai[col] = label_encoders[col].inverse_transform(df_xmoai[col].astype(int))\n",
    "\n",
    "        df_xmoai = pd.concat([df_xmoai, pd.DataFrame(front, columns=['F1', 'F2', 'F3'])], axis=1)\n",
    "        df_xmoai['Algorithm'] = 'Proposal'\n",
    "    except:\n",
    "        df_xmoai = pd.DataFrame()\n",
    "        display('Error in XMOAI. Resuming...')\n",
    "\n",
    "    # Alibi CFs\n",
    "    print('Processing Alibi')\n",
    "    try:\n",
    "        alibi_cf = cf.explain(X_current.values, verbose=False)\n",
    "\n",
    "        if len(alibi_cf['all'])==0:\n",
    "            df_alibi = pd.DataFrame()\n",
    "        else:\n",
    "            df_alibi = [tuple(v) for v in alibi_cf['all'].values() if len(v) > 0]\n",
    "            df_alibi = pd.DataFrame([v[0] for v in np.vstack(df_alibi)])\n",
    "            df_alibi.columns = X_test.columns\n",
    "\n",
    "            if len(df_alibi)==0:\n",
    "                continue\n",
    "\n",
    "            f1, f2, f3, prediction = calculate_metrics(df_alibi, X_current, y_desired, 'predict_proba',\n",
    "                                                       categorical_columns_label_encoded,\n",
    "                                                       categorical_columns_one_hot_encoded)\n",
    "\n",
    "            df_alibi = pd.concat([df_alibi, pd.DataFrame(np.vstack([f1, f2, f3]).T, columns=['F1', 'F2', 'F3'])], axis=1)\n",
    "            df_alibi['Algorithm'] = 'Alibi'\n",
    "    except:\n",
    "        df_alibi = pd.DataFrame()\n",
    "        display('Error in Alibi. Resuming...')\n",
    "\n",
    "    results[X_current.index[0]] = pd.concat([df_dice, df_alibi, df_xmoai]).reset_index(drop=True)"
   ]
  },
  {
   "cell_type": "code",
   "execution_count": 17,
   "id": "52ef296b-6231-4063-8fd8-0b1807413f20",
   "metadata": {},
   "outputs": [],
   "source": [
    "import pickle\n",
    "pickle.dump([results, X_test.iloc[:number_of_instances]], open('adult_results.pkl', 'wb'))"
   ]
  },
  {
   "cell_type": "code",
   "execution_count": null,
   "id": "55869be1-7fc9-40e9-89e2-ec60a969f353",
   "metadata": {},
   "outputs": [],
   "source": []
  }
 ],
 "metadata": {
  "kernelspec": {
   "display_name": "Python 3 (ipykernel)",
   "language": "python",
   "name": "python3"
  },
  "language_info": {
   "codemirror_mode": {
    "name": "ipython",
    "version": 3
   },
   "file_extension": ".py",
   "mimetype": "text/x-python",
   "name": "python",
   "nbconvert_exporter": "python",
   "pygments_lexer": "ipython3",
   "version": "3.7.0"
  }
 },
 "nbformat": 4,
 "nbformat_minor": 5
}
